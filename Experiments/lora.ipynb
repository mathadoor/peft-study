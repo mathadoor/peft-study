{
 "cells": [
  {
   "cell_type": "code",
   "execution_count": null,
   "id": "initial_id",
   "metadata": {
    "collapsed": true
   },
   "outputs": [],
   "source": [
    "import peft\n",
    "from peft import LoraConfig, LoraModel\n",
    "from transformers import AutoModelForCausalLM, AutoTokenizer, AutoConfig\n",
    "from datasets import load_dataset\n",
    "from dotenv import load_dotenv\n",
    "import os\n",
    "import torch\n",
    "import pynvml\n",
    "from tqdm import tqdm"
   ]
  },
  {
   "cell_type": "code",
   "outputs": [],
   "source": [
    "load_dotenv(\"../.env\")\n",
    "dataset_name=\"mathadoor/brackozi-resume-llama3-summaries\"\n",
    "model_name=\"meta-llama/meta-llama-3-8b-instruct\"\n",
    "device =  \"cpu\"\n",
    "model = None"
   ],
   "metadata": {
    "collapsed": false
   },
   "id": "b0a541615da5962",
   "execution_count": null
  },
  {
   "cell_type": "code",
   "outputs": [],
   "source": [
    "dataset = load_dataset(dataset_name, split=\"train\")"
   ],
   "metadata": {
    "collapsed": false
   },
   "id": "2df07e6bace730a6",
   "execution_count": null
  },
  {
   "cell_type": "code",
   "outputs": [],
   "source": [
    "if model is not None:\n",
    "    model.to(\"cpu\")\n",
    "    del model\n",
    "    torch.cuda.empty_cache()\n",
    "    \n",
    "model = AutoModelForCausalLM.from_pretrained(model_name, token=os.getenv(\"hf_token\"), torch_dtype=torch.bfloat16, device_map=device)\n",
    "tokenizer = AutoTokenizer.from_pretrained(model_name, device_map=device)\n",
    "tokenizer.add_special_tokens({\"pad_token\":\"<pad>\"})\n",
    "lora_config = LoraConfig(r=8, lora_alpha=32, task_type=\"CAUSAL_LM\")\n",
    "lora_model = peft.get_peft_model(model, lora_config, \"default\")"
   ],
   "metadata": {
    "collapsed": false
   },
   "id": "8cc91a6f0aea50c4",
   "execution_count": null
  },
  {
   "cell_type": "code",
   "outputs": [],
   "source": [
    "if \"Summary\" not in dataset.features:\n",
    "    summaries = []\n",
    "    for x in tqdm(dataset):\n",
    "        resume = x['resume']\n",
    "        prompt = [{\"role\":\"system\",  \"content\": f\"you are a recruiter with a keen eye for talent in the field of {x['category']}. \"\n",
    "                                                f\"you have been tasked with summarizing the key skills, experience, education, and relevant awards and publication the candidate posseses from their resume.\"},\n",
    "                  {\"role\":\"user\", \"content\": f\"here is a resume for you to summarize:{resume}\"}]\n",
    "        input_ids = tokenizer.apply_chat_template(prompt, add_generation_prompt=True, return_tensors=\"pt\").to(model.device)\n",
    "        terminators = [tokenizer.eos_token_id, tokenizer.convert_tokens_to_ids(\"<|eot_id|>\")]\n",
    "        outputs = model.generate(\n",
    "            input_ids,\n",
    "            eos_token_id=terminators,\n",
    "            do_sample=True,\n",
    "            temperature=0.6,\n",
    "            top_p=0.9,\n",
    "        )\n",
    "        response = outputs[0][input_ids.shape[-1]:]\n",
    "        summary = tokenizer.decode(response, skip_special_tokens=True)\n",
    "        summaries.append(summary)\n",
    "    dataset.add_column(\"Summary\", summaries)"
   ],
   "metadata": {
    "collapsed": false
   },
   "id": "b5b4437acfef1c9",
   "execution_count": null
  },
  {
   "cell_type": "code",
   "outputs": [],
   "source": [
    "lora_model.print_trainable_parameters()"
   ],
   "metadata": {
    "collapsed": false
   },
   "id": "955911bf7ba28f99",
   "execution_count": null
  },
  {
   "cell_type": "code",
   "outputs": [],
   "source": [
    "split_ds = dataset.train_test_split(test_size=0.2)\n",
    "train_ds = split_ds[\"train\"]\n",
    "test_ds = split_ds[\"test\"]\n",
    "\n",
    "def tokenize_function(example):\n",
    "    ret = [{\"role\":\"system\",  \"content\": f\"You are an all knowing job seeking candidate who can create an impressive, \"\n",
    "                                         f\"objective resume based on the job description provided.\"},\n",
    "           {\"role\":\"user\", \"content\": f\"here is a summary for which to create a resume for: {example['Summary']}\"}]\n",
    "    return {\"input_ids\": tokenizer.apply_chat_template(ret, add_generation_prompt=True, return_tensors=\"pt\")[0], \n",
    "            \"resume_ids\": tokenizer(example[\"Resume\"], return_tensors=\"pt\")[\"input_ids\"]}\n",
    "\n",
    "train_ds = train_ds.map(lambda x: tokenize_function(x), batched=False)\n",
    "val_ds = test_ds.map(lambda x: tokenize_function(x), batched=False)"
   ],
   "metadata": {
    "collapsed": false
   },
   "id": "607026bd6f22740c",
   "execution_count": null
  },
  {
   "cell_type": "code",
   "outputs": [],
   "source": [
    "from transformers import Trainer, TrainingArguments \n",
    "\n",
    "train_args = TrainingArguments(output_dir=\"llama3-lora-ft\", label_names=[\"resume_id\"])\n",
    "trainer = Trainer(\n",
    "    model=lora_model,\n",
    "    args=train_args,\n",
    "    train_dataset=train_ds,\n",
    "    eval_dataset=val_ds,\n",
    "    tokenizer=tokenizer\n",
    ")"
   ],
   "metadata": {
    "collapsed": false
   },
   "id": "ac1dc3abde29f609",
   "execution_count": null
  },
  {
   "cell_type": "code",
   "outputs": [],
   "source": [
    "trainer.train()"
   ],
   "metadata": {
    "collapsed": false
   },
   "id": "42d5da5220670ae8",
   "execution_count": null
  },
  {
   "cell_type": "code",
   "outputs": [],
   "source": [],
   "metadata": {
    "collapsed": false
   },
   "id": "998e65726dda55c5"
  }
 ],
 "metadata": {
  "kernelspec": {
   "display_name": "Python 3",
   "language": "python",
   "name": "python3"
  },
  "language_info": {
   "codemirror_mode": {
    "name": "ipython",
    "version": 2
   },
   "file_extension": ".py",
   "mimetype": "text/x-python",
   "name": "python",
   "nbconvert_exporter": "python",
   "pygments_lexer": "ipython2",
   "version": "2.7.6"
  }
 },
 "nbformat": 4,
 "nbformat_minor": 5
}
