{
 "cells": [
  {
   "cell_type": "markdown",
   "id": "9e45fd35-cdca-44b8-a00f-607078ee1a67",
   "metadata": {
    "collapsed": true,
    "jupyter": {
     "outputs_hidden": true
    }
   },
   "source": [
    "# Investigating Ranks\n",
    "In the first section, I am going to investigate what an appropriate rank to consider should be. It will make sense to look at the \n",
    "ranks of a trained matrix and a randomly initialized matrix. We will start by looking at a randomly initialized matrix and then\n",
    "look at a trained matrix. Specifically, I will look at the rank of a randomly initialized matrix. I will need to consider the sizes \n",
    "that are seen in RoBERTa"
   ]
  },
  {
   "cell_type": "markdown",
   "id": "a1397017-4851-477f-a432-2a934510e545",
   "metadata": {
    "jp-MarkdownHeadingCollapsed": true
   },
   "source": [
    "## Imports and Helper Functions"
   ]
  },
  {
   "cell_type": "code",
   "execution_count": 1,
   "id": "4f2172b3-4630-4fed-8bfd-4cf8b3ea7ada",
   "metadata": {},
   "outputs": [],
   "source": [
    "# Import Appropriate Libraries\n",
    "%load_ext autoreload\n",
    "    \n",
    "import torch\n",
    "import matplotlib.pyplot as plt \n",
    "import bisect\n",
    "import sys\n",
    "sys.path.append(\"../\")"
   ]
  },
  {
   "cell_type": "code",
   "execution_count": 2,
   "id": "25dba68b-c775-4672-8fbf-f2bb3da6f1e9",
   "metadata": {},
   "outputs": [],
   "source": [
    "def get_principle_direction(A, exp_var):\n",
    "    U, S, V = torch.linalg.svd(A)\n",
    "    X = (torch.cumsum(S, 0) / S.sum().item()).tolist()\n",
    "    num = bisect.bisect(X, exp_var)\n",
    "    return num"
   ]
  },
  {
   "cell_type": "markdown",
   "id": "35846b95-4743-425e-a2bd-ac1db674217a",
   "metadata": {
    "jp-MarkdownHeadingCollapsed": true
   },
   "source": [
    "## Normally Initialized Matrix Analysis"
   ]
  },
  {
   "cell_type": "code",
   "execution_count": 4,
   "id": "8a4005e5-d964-4def-94f1-41d18030aeab",
   "metadata": {},
   "outputs": [],
   "source": [
    "def plot_results(n=100, size=[768, 768], exp_var=0.99):\n",
    "    results = []\n",
    "    for _ in range(n):\n",
    "        A = torch.randn(size)\n",
    "        num = get_principle_direction(A, exp_var)\n",
    "        results.append(num)\n",
    "    return results"
   ]
  },
  {
   "cell_type": "code",
   "execution_count": 6,
   "id": "86b27c30-3205-4635-b424-9e5e80078d10",
   "metadata": {},
   "outputs": [
    {
     "data": {
      "text/plain": [
       "(array([51.,  0.,  0.,  0.,  0.,  0.,  0.,  0.,  0., 49.]),\n",
       " array([515. , 515.1, 515.2, 515.3, 515.4, 515.5, 515.6, 515.7, 515.8,\n",
       "        515.9, 516. ]),\n",
       " <BarContainer object of 10 artists>)"
      ]
     },
     "execution_count": 6,
     "metadata": {},
     "output_type": "execute_result"
    },
    {
     "data": {
      "image/png": "[encoded data removed]",
      "text/plain": [
       "<Figure size 1000x300 with 3 Axes>"
      ]
     },
     "metadata": {},
     "output_type": "display_data"
    }
   ],
   "source": [
    "fig, ax = plt.subplots(nrows=1, ncols=3, figsize=(10, 3))\n",
    "ax[0].hist(plot_results())\n",
    "ax[1].hist(plot_results(exp_var=0.95))\n",
    "ax[2].hist(plot_results(exp_var=0.9))"
   ]
  },
  {
   "cell_type": "markdown",
   "id": "601559f6-0a40-40bb-830e-a836a35c5a5b",
   "metadata": {},
   "source": [
    "The above results indicate the rank is very tightly distributed based on the explained variance. The reader is encouraged to play with the explained_variance and support the claim themselves."
   ]
  },
  {
   "cell_type": "markdown",
   "id": "41538748-3d56-4a69-a5f6-aa4f2e98f146",
   "metadata": {},
   "source": [
    "## Analysis of RoBERTa pre-trained Weights "
   ]
  },
  {
   "cell_type": "code",
   "execution_count": 3,
   "id": "373c7b6d-5ccd-447e-b545-7349e19e7e90",
   "metadata": {
    "scrolled": true
   },
   "outputs": [
    {
     "name": "stderr",
     "output_type": "stream",
     "text": [
      "Using cache found in /home/mathadoor/.cache/torch/hub/pytorch_fairseq_main\n",
      "INFO:fairseq.tasks.text_to_speech:Please install tensorboardX: pip install tensorboardX\n",
      "DEBUG:urllib3.connectionpool:Starting new HTTP connection (1): dl.fbaipublicfiles.com:80\n",
      "DEBUG:urllib3.connectionpool:http://dl.fbaipublicfiles.com:80 \"HEAD /fairseq/models/roberta.large.tar.gz HTTP/1.1\" 200 0\n",
      "INFO:fairseq.file_utils:loading archive file http://dl.fbaipublicfiles.com/fairseq/models/roberta.large.tar.gz from cache at /home/mathadoor/.cache/torch/pytorch_fairseq/83e3a689e28e5e4696ecb0bbb05a77355444a5c8a3437e0f736d8a564e80035e.c687083d14776c1979f3f71654febb42f2bb3d9a94ff7ebdfe1ac6748dba89d2\n",
      "/home/mathadoor/Documents/peft-study/venv/lib/python3.10/site-packages/hydra/experimental/initialize.py:43: UserWarning: hydra.experimental.initialize() is no longer experimental. Use hydra.initialize()\n",
      "  deprecation_warning(message=message)\n",
      "/home/mathadoor/Documents/peft-study/venv/lib/python3.10/site-packages/hydra/experimental/initialize.py:45: UserWarning: \n",
      "The version_base parameter is not specified.\n",
      "Please specify a compatability version level, or None.\n",
      "Will assume defaults for version 1.1\n",
      "  self.delegate = real_initialize(\n",
      "DEBUG:hydra.core.utils:Setting JobRuntime:name=UNKNOWN_NAME\n",
      "DEBUG:hydra.core.utils:Setting JobRuntime:name=utils\n",
      "/home/mathadoor/Documents/peft-study/venv/lib/python3.10/site-packages/hydra/experimental/compose.py:25: UserWarning: hydra.experimental.compose() is no longer experimental. Use hydra.compose()\n",
      "  deprecation_warning(message=message)\n",
      "/home/mathadoor/Documents/peft-study/venv/lib/python3.10/site-packages/hydra/core/default_element.py:124: UserWarning: In 'config': Usage of deprecated keyword in package header '# @package _group_'.\n",
      "See https://hydra.cc/docs/1.2/upgrades/1.0_to_1.1/changes_to_package_header for more information\n",
      "  deprecation_warning(\n",
      "/home/mathadoor/.cache/torch/hub/pytorch_fairseq_main/fairseq/checkpoint_utils.py:450: UserWarning: \n",
      "'config' is validated against ConfigStore schema with the same name.\n",
      "This behavior is deprecated in Hydra 1.1 and will be removed in Hydra 1.2.\n",
      "See https://hydra.cc/docs/1.2/upgrades/1.0_to_1.1/automatic_schema_matching for migration instructions.\n",
      "  state = load_checkpoint_to_cpu(filename, arg_overrides)\n",
      "/home/mathadoor/Documents/peft-study/venv/lib/python3.10/site-packages/hydra/compose.py:56: UserWarning: \n",
      "The strict flag in the compose API is deprecated.\n",
      "See https://hydra.cc/docs/1.2/upgrades/0.11_to_1.0/strict_mode_flag_deprecated for more info.\n",
      "\n",
      "  deprecation_warning(\n",
      "/home/mathadoor/Documents/peft-study/venv/lib/python3.10/site-packages/hydra/experimental/initialize.py:43: UserWarning: hydra.experimental.initialize() is no longer experimental. Use hydra.initialize()\n",
      "  deprecation_warning(message=message)\n",
      "/home/mathadoor/Documents/peft-study/venv/lib/python3.10/site-packages/hydra/experimental/initialize.py:45: UserWarning: \n",
      "The version_base parameter is not specified.\n",
      "Please specify a compatability version level, or None.\n",
      "Will assume defaults for version 1.1\n",
      "  self.delegate = real_initialize(\n",
      "DEBUG:hydra.core.utils:Setting JobRuntime:name=utils\n",
      "/home/mathadoor/.cache/torch/hub/pytorch_fairseq_main/fairseq/models/roberta/model.py:369: UserWarning: \n",
      "'config' is validated against ConfigStore schema with the same name.\n",
      "This behavior is deprecated in Hydra 1.1 and will be removed in Hydra 1.2.\n",
      "See https://hydra.cc/docs/1.2/upgrades/1.0_to_1.1/automatic_schema_matching for migration instructions.\n",
      "  x = hub_utils.from_pretrained(\n",
      "INFO:fairseq.tasks.masked_lm:dictionary: 50264 types\n",
      "INFO:fairseq.models.roberta.model:{'_name': None, 'common': {'_name': None, 'no_progress_bar': False, 'log_interval': 25, 'log_format': 'json', 'log_file': None, 'aim_repo': None, 'aim_run_hash': None, 'tensorboard_logdir': None, 'wandb_project': None, 'azureml_logging': False, 'seed': 4, 'cpu': False, 'tpu': False, 'bf16': False, 'memory_efficient_bf16': False, 'fp16': True, 'memory_efficient_fp16': True, 'fp16_no_flatten_grads': False, 'fp16_init_scale': 4, 'fp16_scale_window': 128, 'fp16_scale_tolerance': 0.0, 'on_cpu_convert_precision': False, 'min_loss_scale': 0.0001, 'threshold_loss_scale': 1.0, 'amp': False, 'amp_batch_retries': 2, 'amp_init_scale': 128, 'amp_scale_window': None, 'user_dir': None, 'empty_cache_freq': 0, 'all_gather_list_size': 16384, 'model_parallel_size': 1, 'quantization_config_path': None, 'profile': False, 'reset_logging': False, 'suppress_crashes': False, 'use_plasma_view': False, 'plasma_path': '/tmp/plasma'}, 'common_eval': {'_name': None, 'path': None, 'post_process': None, 'quiet': False, 'model_overrides': '{}', 'results_path': None}, 'distributed_training': {'_name': None, 'distributed_world_size': 1024, 'distributed_num_procs': 1, 'distributed_rank': 0, 'distributed_backend': 'nccl', 'distributed_init_method': None, 'distributed_port': 19237, 'device_id': 0, 'distributed_no_spawn': False, 'ddp_backend': 'c10d', 'ddp_comm_hook': 'none', 'bucket_cap_mb': 200, 'fix_batches_to_gpus': False, 'find_unused_parameters': True, 'gradient_as_bucket_view': False, 'fast_stat_sync': False, 'heartbeat_timeout': -1, 'broadcast_buffers': False, 'slowmo_momentum': None, 'slowmo_base_algorithm': 'localsgd', 'localsgd_frequency': 3, 'nprocs_per_node': 1, 'pipeline_model_parallel': False, 'pipeline_balance': None, 'pipeline_devices': None, 'pipeline_chunks': 0, 'pipeline_encoder_balance': None, 'pipeline_encoder_devices': None, 'pipeline_decoder_balance': None, 'pipeline_decoder_devices': None, 'pipeline_checkpoint': 'never', 'zero_sharding': 'none', 'fp16': True, 'memory_efficient_fp16': True, 'tpu': True, 'no_reshard_after_forward': False, 'fp32_reduce_scatter': False, 'cpu_offload': False, 'use_sharded_state': False, 'not_fsdp_flatten_parameters': False}, 'dataset': {'_name': None, 'num_workers': 2, 'skip_invalid_size_inputs_valid_test': True, 'max_tokens': 4400, 'batch_size': None, 'required_batch_size_multiple': 1, 'required_seq_len_multiple': 1, 'dataset_impl': 'mmap', 'data_buffer_size': 10, 'train_subset': 'train', 'valid_subset': 'valid', 'combine_valid_subsets': None, 'ignore_unused_valid_subsets': False, 'validate_interval': 1, 'validate_interval_updates': 0, 'validate_after_updates': 0, 'fixed_validation_seed': None, 'disable_validation': False, 'max_tokens_valid': 4400, 'batch_size_valid': None, 'max_valid_steps': None, 'curriculum': 0, 'gen_subset': 'test', 'num_shards': 1, 'shard_id': 0, 'grouped_shuffling': False, 'update_epoch_batch_itr': True, 'update_ordered_indices_seed': False}, 'optimization': {'_name': None, 'max_epoch': 0, 'max_update': 500000, 'stop_time_hours': 0.0, 'clip_norm': 0.0, 'sentence_avg': False, 'update_freq': [1], 'lr': [0.0004], 'stop_min_lr': -1.0, 'use_bmuf': False, 'skip_remainder_batch': False, 'debug_param_names': False}, 'checkpoint': {'_name': None, 'save_dir': 'checkpoints', 'restore_file': 'checkpoint_last.pt', 'continue_once': None, 'finetune_from_model': None, 'reset_dataloader': False, 'reset_lr_scheduler': False, 'reset_meters': False, 'reset_optimizer': False, 'optimizer_overrides': '{}', 'save_interval': 1, 'save_interval_updates': 2000, 'keep_interval_updates': -1, 'keep_interval_updates_pattern': -1, 'keep_last_epochs': -1, 'keep_best_checkpoints': -1, 'no_save': False, 'no_epoch_checkpoints': True, 'no_last_checkpoints': False, 'no_save_optimizer_state': False, 'best_checkpoint_metric': 'loss', 'maximize_best_checkpoint_metric': False, 'patience': -1, 'checkpoint_suffix': '', 'checkpoint_shard_count': 1, 'load_checkpoint_on_all_dp_ranks': False, 'write_checkpoints_asynchronously': False, 'model_parallel_size': 1}, 'bmuf': {'_name': None, 'block_lr': 1.0, 'block_momentum': 0.875, 'global_sync_iter': 10, 'warmup_iterations': 500, 'use_nbm': False, 'average_sync': False, 'distributed_world_size': 1024}, 'generation': {'_name': None, 'beam': 5, 'beam_mt': 0, 'nbest': 1, 'max_len_a': 0.0, 'max_len_b': 200, 'max_len_a_mt': 0.0, 'max_len_b_mt': 200, 'min_len': 1, 'match_source_len': False, 'unnormalized': False, 'no_early_stop': False, 'no_beamable_mm': False, 'lenpen': 1.0, 'lenpen_mt': 1.0, 'unkpen': 0.0, 'replace_unk': None, 'sacrebleu': False, 'score_reference': False, 'prefix_size': 0, 'no_repeat_ngram_size': 0, 'sampling': False, 'sampling_topk': -1, 'sampling_topp': -1.0, 'constraints': None, 'temperature': 1.0, 'diverse_beam_groups': -1, 'diverse_beam_strength': 0.5, 'diversity_rate': -1.0, 'print_alignment': None, 'print_step': False, 'lm_path': None, 'lm_weight': 0.0, 'iter_decode_eos_penalty': 0.0, 'iter_decode_max_iter': 10, 'iter_decode_force_max_iter': False, 'iter_decode_with_beam': 1, 'iter_decode_with_external_reranker': False, 'retain_iter_history': False, 'retain_dropout': False, 'retain_dropout_modules': None, 'decoding_format': None, 'no_seed_provided': False, 'eos_token': None}, 'eval_lm': {'_name': None, 'output_word_probs': False, 'output_word_stats': False, 'context_window': 0, 'softmax_batch': 9223372036854775807}, 'interactive': {'_name': None, 'buffer_size': 0, 'input': '-'}, 'model': Namespace(no_progress_bar=False, log_interval=25, log_format='json', tbmf_wrapper=False, seed=4, cpu=False, fp16=True, memory_efficient_fp16=True, fp16_init_scale=4, fp16_scale_window=128, fp16_scale_tolerance=0.0, min_loss_scale=0.0001, threshold_loss_scale=1.0, user_dir=None, criterion='masked_lm', tokenizer=None, bpe='gpt2', optimizer='adam', lr_scheduler='polynomial_decay', task='masked_lm', num_workers=2, skip_invalid_size_inputs_valid_test=True, max_tokens=4400, max_sentences=8, required_batch_size_multiple=1, dataset_impl='mmap', train_subset='train', valid_subset='valid', validate_interval=1, disable_validation=False, only_validate=False, max_sentences_valid=8, curriculum=0, distributed_world_size=1024, distributed_rank=0, distributed_backend='nccl', distributed_port=19237, device_id=0, distributed_no_spawn=False, ddp_backend='c10d', bucket_cap_mb=200, fix_batches_to_gpus=False, find_unused_parameters=True, arch='roberta_large', max_epoch=0, max_update=500000, clip_norm=0.0, sentence_avg=False, update_freq=[1], lr=[0.0004], use_bmuf=False, global_sync_iter=10, restore_file='checkpoint_last.pt', reset_dataloader=False, reset_lr_scheduler=False, reset_meters=False, reset_optimizer=False, optimizer_overrides='{}', save_interval=1, save_interval_updates=2000, keep_interval_updates=-1, keep_last_epochs=-1, no_save=False, no_epoch_checkpoints=True, no_last_checkpoints=False, no_save_optimizer_state=False, best_checkpoint_metric='loss', maximize_best_checkpoint_metric=False, adam_betas='(0.9, 0.98)', adam_eps=1e-06, weight_decay=0.01, force_anneal=None, warmup_updates=24000, end_learning_rate=0.0, power=1.0, total_num_update=500000, sample_break_mode='complete', tokens_per_sample=512, mask_prob=0.15, leave_unmasked_prob=0.1, random_token_prob=0.1, activation_fn='gelu', dropout=0.1, attention_dropout=0.1, encoder_embed_dim=1024, encoder_layers=24, encoder_attention_heads=16, encoder_ffn_embed_dim=4096, pooler_activation_fn='tanh', max_positions=512, activation_dropout=0.0, load_checkpoint_heads=True, data='/home/mathadoor/.cache/torch/pytorch_fairseq/83e3a689e28e5e4696ecb0bbb05a77355444a5c8a3437e0f736d8a564e80035e.c687083d14776c1979f3f71654febb42f2bb3d9a94ff7ebdfe1ac6748dba89d2', max_source_positions=512, max_target_positions=512, stop_min_lr=-1, encoder_layerdrop=0, encoder_layers_to_keep=None, quant_noise_pq=0, quant_noise_pq_block_size=8, quant_noise_scalar=0, spectral_norm_classification_head=False, min_params_to_wrap=100000000, mha_reg_scale_factor=0.0, ffn_reg_scale_factor=0.0, mha_heads_to_keep=-1, ffn_blocks_to_remove=-1, _name='roberta_large', pooler_dropout=0.0, no_token_positional_embeddings=False, encoder_learned_pos=True, layernorm_embedding=True, no_scale_embedding=True, encoder_normalize_before=False, untie_weights_roberta=False, adaptive_input=False), 'task': {'_name': 'masked_lm', 'data': '/home/mathadoor/.cache/torch/pytorch_fairseq/83e3a689e28e5e4696ecb0bbb05a77355444a5c8a3437e0f736d8a564e80035e.c687083d14776c1979f3f71654febb42f2bb3d9a94ff7ebdfe1ac6748dba89d2', 'sample_break_mode': 'complete', 'tokens_per_sample': 512, 'mask_prob': 0.15, 'leave_unmasked_prob': 0.1, 'random_token_prob': 0.1, 'freq_weighted_replacement': False, 'mask_whole_words': False, 'mask_multiple_length': 1, 'mask_stdev': 0.0, 'shorten_method': 'none', 'shorten_data_split_list': '', 'seed': 4, 'include_target_tokens': False, 'include_index': True, 'skip_masking': False, 'd2v2_multi': False}, 'criterion': {'_name': 'masked_lm', 'tpu': True}, 'optimizer': {'_name': 'adam', 'adam_betas': '(0.9, 0.98)', 'adam_eps': 1e-06, 'weight_decay': 0.01, 'use_old_adam': False, 'fp16_adam_stats': False, 'tpu': True, 'lr': [0.0004]}, 'lr_scheduler': {'_name': 'polynomial_decay', 'warmup_updates': 24000, 'force_anneal': None, 'end_learning_rate': 0.0, 'power': 1.0, 'total_num_update': 500000.0, 'lr': [0.0004]}, 'scoring': None, 'bpe': {'_name': 'gpt2', 'gpt2_encoder_json': 'https://dl.fbaipublicfiles.com/fairseq/gpt2_bpe/encoder.json', 'gpt2_vocab_bpe': 'https://dl.fbaipublicfiles.com/fairseq/gpt2_bpe/vocab.bpe'}, 'tokenizer': None, 'ema': {'_name': None, 'store_ema': False, 'ema_decay': 0.9999, 'ema_start_update': 0, 'ema_seed_model': None, 'ema_update_freq': 1, 'ema_fp32': False}, 'simul_type': None}\n",
      "DEBUG:urllib3.connectionpool:Starting new HTTPS connection (1): dl.fbaipublicfiles.com:443\n",
      "DEBUG:urllib3.connectionpool:https://dl.fbaipublicfiles.com:443 \"HEAD /fairseq/gpt2_bpe/encoder.json HTTP/1.1\" 200 0\n",
      "DEBUG:urllib3.connectionpool:Starting new HTTPS connection (1): dl.fbaipublicfiles.com:443\n",
      "DEBUG:urllib3.connectionpool:https://dl.fbaipublicfiles.com:443 \"HEAD /fairseq/gpt2_bpe/vocab.bpe HTTP/1.1\" 200 0\n",
      "Using cache found in /home/mathadoor/.cache/torch/hub/pytorch_fairseq_main\n",
      "DEBUG:urllib3.connectionpool:Starting new HTTP connection (1): dl.fbaipublicfiles.com:80\n",
      "DEBUG:urllib3.connectionpool:http://dl.fbaipublicfiles.com:80 \"HEAD /fairseq/models/roberta.base.tar.gz HTTP/1.1\" 200 0\n",
      "INFO:fairseq.file_utils:loading archive file http://dl.fbaipublicfiles.com/fairseq/models/roberta.base.tar.gz from cache at /home/mathadoor/.cache/torch/pytorch_fairseq/37d2bc14cf6332d61ed5abeb579948e6054e46cc724c7d23426382d11a31b2d6.ae5852b4abc6bf762e0b6b30f19e741aa05562471e9eb8f4a6ae261f04f9b350\n",
      "DEBUG:hydra.core.utils:Setting JobRuntime:name=utils\n",
      "DEBUG:hydra.core.utils:Setting JobRuntime:name=utils\n",
      "INFO:fairseq.tasks.masked_lm:dictionary: 50264 types\n",
      "INFO:fairseq.models.roberta.model:{'_name': None, 'common': {'_name': None, 'no_progress_bar': False, 'log_interval': 25, 'log_format': 'json', 'log_file': None, 'aim_repo': None, 'aim_run_hash': None, 'tensorboard_logdir': None, 'wandb_project': None, 'azureml_logging': False, 'seed': 1, 'cpu': False, 'tpu': False, 'bf16': False, 'memory_efficient_bf16': False, 'fp16': True, 'memory_efficient_fp16': True, 'fp16_no_flatten_grads': False, 'fp16_init_scale': 4, 'fp16_scale_window': 128, 'fp16_scale_tolerance': 0.0, 'on_cpu_convert_precision': False, 'min_loss_scale': 0.0001, 'threshold_loss_scale': 1.0, 'amp': False, 'amp_batch_retries': 2, 'amp_init_scale': 128, 'amp_scale_window': None, 'user_dir': None, 'empty_cache_freq': 0, 'all_gather_list_size': 16384, 'model_parallel_size': 1, 'quantization_config_path': None, 'profile': False, 'reset_logging': False, 'suppress_crashes': False, 'use_plasma_view': False, 'plasma_path': '/tmp/plasma'}, 'common_eval': {'_name': None, 'path': None, 'post_process': None, 'quiet': False, 'model_overrides': '{}', 'results_path': None}, 'distributed_training': {'_name': None, 'distributed_world_size': 512, 'distributed_num_procs': 1, 'distributed_rank': 0, 'distributed_backend': 'nccl', 'distributed_init_method': None, 'distributed_port': 19812, 'device_id': 0, 'distributed_no_spawn': False, 'ddp_backend': 'c10d', 'ddp_comm_hook': 'none', 'bucket_cap_mb': 200, 'fix_batches_to_gpus': False, 'find_unused_parameters': True, 'gradient_as_bucket_view': False, 'fast_stat_sync': False, 'heartbeat_timeout': -1, 'broadcast_buffers': False, 'slowmo_momentum': None, 'slowmo_base_algorithm': 'localsgd', 'localsgd_frequency': 3, 'nprocs_per_node': 1, 'pipeline_model_parallel': False, 'pipeline_balance': None, 'pipeline_devices': None, 'pipeline_chunks': 0, 'pipeline_encoder_balance': None, 'pipeline_encoder_devices': None, 'pipeline_decoder_balance': None, 'pipeline_decoder_devices': None, 'pipeline_checkpoint': 'never', 'zero_sharding': 'none', 'fp16': True, 'memory_efficient_fp16': True, 'tpu': True, 'no_reshard_after_forward': False, 'fp32_reduce_scatter': False, 'cpu_offload': False, 'use_sharded_state': False, 'not_fsdp_flatten_parameters': False}, 'dataset': {'_name': None, 'num_workers': 2, 'skip_invalid_size_inputs_valid_test': True, 'max_tokens': 999999, 'batch_size': None, 'required_batch_size_multiple': 1, 'required_seq_len_multiple': 1, 'dataset_impl': 'mmap', 'data_buffer_size': 10, 'train_subset': 'train', 'valid_subset': 'valid', 'combine_valid_subsets': None, 'ignore_unused_valid_subsets': False, 'validate_interval': 1, 'validate_interval_updates': 0, 'validate_after_updates': 0, 'fixed_validation_seed': None, 'disable_validation': False, 'max_tokens_valid': 999999, 'batch_size_valid': None, 'max_valid_steps': None, 'curriculum': 0, 'gen_subset': 'test', 'num_shards': 1, 'shard_id': 0, 'grouped_shuffling': False, 'update_epoch_batch_itr': True, 'update_ordered_indices_seed': False}, 'optimization': {'_name': None, 'max_epoch': 0, 'max_update': 500000, 'stop_time_hours': 0.0, 'clip_norm': 0.0, 'sentence_avg': False, 'update_freq': [1], 'lr': [0.0006], 'stop_min_lr': -1.0, 'use_bmuf': False, 'skip_remainder_batch': False, 'debug_param_names': False}, 'checkpoint': {'_name': None, 'save_dir': 'checkpoints', 'restore_file': 'checkpoint_last.pt', 'continue_once': None, 'finetune_from_model': None, 'reset_dataloader': True, 'reset_lr_scheduler': False, 'reset_meters': False, 'reset_optimizer': False, 'optimizer_overrides': '{}', 'save_interval': 1, 'save_interval_updates': 2000, 'keep_interval_updates': -1, 'keep_interval_updates_pattern': -1, 'keep_last_epochs': -1, 'keep_best_checkpoints': -1, 'no_save': False, 'no_epoch_checkpoints': True, 'no_last_checkpoints': False, 'no_save_optimizer_state': False, 'best_checkpoint_metric': 'loss', 'maximize_best_checkpoint_metric': False, 'patience': -1, 'checkpoint_suffix': '', 'checkpoint_shard_count': 1, 'load_checkpoint_on_all_dp_ranks': False, 'write_checkpoints_asynchronously': False, 'model_parallel_size': 1}, 'bmuf': {'_name': None, 'block_lr': 1.0, 'block_momentum': 0.875, 'global_sync_iter': 10, 'warmup_iterations': 500, 'use_nbm': False, 'average_sync': False, 'distributed_world_size': 512}, 'generation': {'_name': None, 'beam': 5, 'beam_mt': 0, 'nbest': 1, 'max_len_a': 0.0, 'max_len_b': 200, 'max_len_a_mt': 0.0, 'max_len_b_mt': 200, 'min_len': 1, 'match_source_len': False, 'unnormalized': False, 'no_early_stop': False, 'no_beamable_mm': False, 'lenpen': 1.0, 'lenpen_mt': 1.0, 'unkpen': 0.0, 'replace_unk': None, 'sacrebleu': False, 'score_reference': False, 'prefix_size': 0, 'no_repeat_ngram_size': 0, 'sampling': False, 'sampling_topk': -1, 'sampling_topp': -1.0, 'constraints': None, 'temperature': 1.0, 'diverse_beam_groups': -1, 'diverse_beam_strength': 0.5, 'diversity_rate': -1.0, 'print_alignment': None, 'print_step': False, 'lm_path': None, 'lm_weight': 0.0, 'iter_decode_eos_penalty': 0.0, 'iter_decode_max_iter': 10, 'iter_decode_force_max_iter': False, 'iter_decode_with_beam': 1, 'iter_decode_with_external_reranker': False, 'retain_iter_history': False, 'retain_dropout': False, 'retain_dropout_modules': None, 'decoding_format': None, 'no_seed_provided': False, 'eos_token': None}, 'eval_lm': {'_name': None, 'output_word_probs': False, 'output_word_stats': False, 'context_window': 0, 'softmax_batch': 9223372036854775807}, 'interactive': {'_name': None, 'buffer_size': 0, 'input': '-'}, 'model': Namespace(no_progress_bar=False, log_interval=25, log_format='json', tbmf_wrapper=False, seed=1, cpu=False, fp16=True, memory_efficient_fp16=True, fp16_init_scale=4, fp16_scale_window=128, fp16_scale_tolerance=0.0, min_loss_scale=0.0001, threshold_loss_scale=1.0, user_dir=None, criterion='masked_lm', tokenizer=None, bpe='gpt2', optimizer='adam', lr_scheduler='polynomial_decay', task='masked_lm', num_workers=2, skip_invalid_size_inputs_valid_test=True, max_tokens=999999, max_sentences=16, required_batch_size_multiple=1, dataset_impl='mmap', train_subset='train', valid_subset='valid', validate_interval=1, disable_validation=False, only_validate=False, max_sentences_valid=16, curriculum=0, distributed_world_size=512, distributed_rank=0, distributed_backend='nccl', distributed_port=19812, device_id=0, distributed_no_spawn=False, ddp_backend='c10d', bucket_cap_mb=200, fix_batches_to_gpus=False, find_unused_parameters=True, arch='roberta_base', max_epoch=0, max_update=500000, clip_norm=0.0, sentence_avg=False, update_freq=[1], lr=[0.0006], use_bmuf=False, global_sync_iter=10, restore_file='checkpoint_last.pt', reset_dataloader=True, reset_lr_scheduler=False, reset_meters=False, reset_optimizer=False, optimizer_overrides='{}', save_interval=1, save_interval_updates=2000, keep_interval_updates=-1, keep_last_epochs=-1, no_save=False, no_epoch_checkpoints=True, no_last_checkpoints=False, no_save_optimizer_state=False, best_checkpoint_metric='loss', maximize_best_checkpoint_metric=False, adam_betas='(0.9, 0.98)', adam_eps=1e-06, weight_decay=0.01, force_anneal=None, warmup_updates=24000, end_learning_rate=0.0, power=1.0, total_num_update=500000, sample_break_mode='complete', tokens_per_sample=512, mask_prob=0.15, leave_unmasked_prob=0.1, random_token_prob=0.1, activation_fn='gelu', dropout=0.1, attention_dropout=0.1, encoder_embed_dim=768, encoder_layers=12, encoder_attention_heads=12, encoder_ffn_embed_dim=3072, pooler_activation_fn='tanh', max_positions=512, activation_dropout=0.0, load_checkpoint_heads=True, data='/home/mathadoor/.cache/torch/pytorch_fairseq/37d2bc14cf6332d61ed5abeb579948e6054e46cc724c7d23426382d11a31b2d6.ae5852b4abc6bf762e0b6b30f19e741aa05562471e9eb8f4a6ae261f04f9b350', max_source_positions=512, max_target_positions=512, stop_min_lr=-1, encoder_layerdrop=0, encoder_layers_to_keep=None, quant_noise_pq=0, quant_noise_pq_block_size=8, quant_noise_scalar=0, spectral_norm_classification_head=False, min_params_to_wrap=100000000, mha_reg_scale_factor=0.0, ffn_reg_scale_factor=0.0, mha_heads_to_keep=-1, ffn_blocks_to_remove=-1, _name='roberta_base', pooler_dropout=0.0, no_token_positional_embeddings=False, encoder_learned_pos=True, layernorm_embedding=True, no_scale_embedding=True, encoder_normalize_before=False, untie_weights_roberta=False, adaptive_input=False), 'task': {'_name': 'masked_lm', 'data': '/home/mathadoor/.cache/torch/pytorch_fairseq/37d2bc14cf6332d61ed5abeb579948e6054e46cc724c7d23426382d11a31b2d6.ae5852b4abc6bf762e0b6b30f19e741aa05562471e9eb8f4a6ae261f04f9b350', 'sample_break_mode': 'complete', 'tokens_per_sample': 512, 'mask_prob': 0.15, 'leave_unmasked_prob': 0.1, 'random_token_prob': 0.1, 'freq_weighted_replacement': False, 'mask_whole_words': False, 'mask_multiple_length': 1, 'mask_stdev': 0.0, 'shorten_method': 'none', 'shorten_data_split_list': '', 'seed': 1, 'include_target_tokens': False, 'include_index': True, 'skip_masking': False, 'd2v2_multi': False}, 'criterion': {'_name': 'masked_lm', 'tpu': True}, 'optimizer': {'_name': 'adam', 'adam_betas': '(0.9, 0.98)', 'adam_eps': 1e-06, 'weight_decay': 0.01, 'use_old_adam': False, 'fp16_adam_stats': False, 'tpu': True, 'lr': [0.0006]}, 'lr_scheduler': {'_name': 'polynomial_decay', 'warmup_updates': 24000, 'force_anneal': None, 'end_learning_rate': 0.0, 'power': 1.0, 'total_num_update': 500000.0, 'lr': [0.0006]}, 'scoring': None, 'bpe': {'_name': 'gpt2', 'gpt2_encoder_json': 'https://dl.fbaipublicfiles.com/fairseq/gpt2_bpe/encoder.json', 'gpt2_vocab_bpe': 'https://dl.fbaipublicfiles.com/fairseq/gpt2_bpe/vocab.bpe'}, 'tokenizer': None, 'ema': {'_name': None, 'store_ema': False, 'ema_decay': 0.9999, 'ema_start_update': 0, 'ema_seed_model': None, 'ema_update_freq': 1, 'ema_fp32': False}, 'simul_type': None}\n",
      "DEBUG:urllib3.connectionpool:Starting new HTTPS connection (1): dl.fbaipublicfiles.com:443\n",
      "DEBUG:urllib3.connectionpool:https://dl.fbaipublicfiles.com:443 \"HEAD /fairseq/gpt2_bpe/encoder.json HTTP/1.1\" 200 0\n",
      "DEBUG:urllib3.connectionpool:Starting new HTTPS connection (1): dl.fbaipublicfiles.com:443\n",
      "DEBUG:urllib3.connectionpool:https://dl.fbaipublicfiles.com:443 \"HEAD /fairseq/gpt2_bpe/vocab.bpe HTTP/1.1\" 200 0\n"
     ]
    }
   ],
   "source": [
    "## Now let's look at how tightly the weights are distributed in RoBERTa \n",
    "roberta_large = torch.hub.load('pytorch/fairseq', 'roberta.large') \n",
    "roberta_base = torch.hub.load('pytorch/fairseq', 'roberta.base')"
   ]
  },
  {
   "cell_type": "code",
   "execution_count": 4,
   "id": "9dd7956d-48ca-4f5f-96e1-72ca43118c2e",
   "metadata": {
    "scrolled": true
   },
   "outputs": [],
   "source": [
    "def print_principle_direction(model, exp_var):\n",
    "    for key, param in model.named_parameters():\n",
    "        with torch.no_grad():\n",
    "            key = \".\".join(key.split(\".\")[3:])\n",
    "            p_size = min(param.size())\n",
    "            if len(param.size()) < 2:\n",
    "                continue\n",
    "            print(key, get_principle_direction(param, exp_var), p_size)"
   ]
  },
  {
   "cell_type": "code",
   "execution_count": 7,
   "id": "6379350c-f84f-41e2-bd2e-da56058431bc",
   "metadata": {
    "scrolled": true
   },
   "outputs": [
    {
     "name": "stdout",
     "output_type": "stream",
     "text": [
      "# Roberta Base Principle Directions \n",
      "\n",
      "embed_tokens.weight 745 768\n",
      "embed_positions.weight 439 514\n",
      "layers.0.self_attn.k_proj.weight 652 768\n",
      "layers.0.self_attn.v_proj.weight 667 768\n",
      "layers.0.self_attn.q_proj.weight 653 768\n",
      "layers.0.self_attn.out_proj.weight 669 768\n",
      "layers.0.fc1.weight 748 768\n",
      "layers.0.fc2.weight 748 768\n",
      "layers.1.self_attn.k_proj.weight 649 768\n",
      "layers.1.self_attn.v_proj.weight 665 768\n",
      "layers.1.self_attn.q_proj.weight 644 768\n",
      "layers.1.self_attn.out_proj.weight 662 768\n",
      "layers.1.fc1.weight 745 768\n",
      "layers.1.fc2.weight 746 768\n",
      "layers.2.self_attn.k_proj.weight 639 768\n",
      "layers.2.self_attn.v_proj.weight 661 768\n",
      "layers.2.self_attn.q_proj.weight 638 768\n",
      "layers.2.self_attn.out_proj.weight 662 768\n",
      "layers.2.fc1.weight 744 768\n",
      "layers.2.fc2.weight 744 768\n",
      "layers.3.self_attn.k_proj.weight 649 768\n",
      "layers.3.self_attn.v_proj.weight 660 768\n",
      "layers.3.self_attn.q_proj.weight 649 768\n",
      "layers.3.self_attn.out_proj.weight 656 768\n",
      "layers.3.fc1.weight 745 768\n",
      "layers.3.fc2.weight 744 768\n",
      "layers.4.self_attn.k_proj.weight 645 768\n",
      "layers.4.self_attn.v_proj.weight 655 768\n",
      "layers.4.self_attn.q_proj.weight 646 768\n",
      "layers.4.self_attn.out_proj.weight 649 768\n",
      "layers.4.fc1.weight 747 768\n",
      "layers.4.fc2.weight 744 768\n",
      "layers.5.self_attn.k_proj.weight 653 768\n",
      "layers.5.self_attn.v_proj.weight 660 768\n",
      "layers.5.self_attn.q_proj.weight 654 768\n",
      "layers.5.self_attn.out_proj.weight 652 768\n",
      "layers.5.fc1.weight 747 768\n",
      "layers.5.fc2.weight 743 768\n",
      "layers.6.self_attn.k_proj.weight 644 768\n",
      "layers.6.self_attn.v_proj.weight 660 768\n",
      "layers.6.self_attn.q_proj.weight 647 768\n",
      "layers.6.self_attn.out_proj.weight 659 768\n",
      "layers.6.fc1.weight 747 768\n",
      "layers.6.fc2.weight 744 768\n",
      "layers.7.self_attn.k_proj.weight 643 768\n",
      "layers.7.self_attn.v_proj.weight 662 768\n",
      "layers.7.self_attn.q_proj.weight 645 768\n",
      "layers.7.self_attn.out_proj.weight 662 768\n",
      "layers.7.fc1.weight 746 768\n",
      "layers.7.fc2.weight 744 768\n",
      "layers.8.self_attn.k_proj.weight 637 768\n",
      "layers.8.self_attn.v_proj.weight 677 768\n",
      "layers.8.self_attn.q_proj.weight 640 768\n",
      "layers.8.self_attn.out_proj.weight 680 768\n",
      "layers.8.fc1.weight 746 768\n",
      "layers.8.fc2.weight 743 768\n",
      "layers.9.self_attn.k_proj.weight 638 768\n",
      "layers.9.self_attn.v_proj.weight 680 768\n",
      "layers.9.self_attn.q_proj.weight 641 768\n",
      "layers.9.self_attn.out_proj.weight 684 768\n",
      "layers.9.fc1.weight 746 768\n",
      "layers.9.fc2.weight 746 768\n",
      "layers.10.self_attn.k_proj.weight 646 768\n",
      "layers.10.self_attn.v_proj.weight 675 768\n",
      "layers.10.self_attn.q_proj.weight 646 768\n",
      "layers.10.self_attn.out_proj.weight 688 768\n",
      "layers.10.fc1.weight 745 768\n",
      "layers.10.fc2.weight 745 768\n",
      "layers.11.self_attn.k_proj.weight 652 768\n",
      "layers.11.self_attn.v_proj.weight 666 768\n",
      "layers.11.self_attn.q_proj.weight 650 768\n",
      "layers.11.self_attn.out_proj.weight 684 768\n",
      "layers.11.fc1.weight 735 768\n",
      "layers.11.fc2.weight 716 768\n",
      "dense.weight 717 768\n",
      "\n",
      "# Roberta Large Principle Directions \n",
      "\n",
      "embed_tokens.weight 1000 1024\n",
      "embed_positions.weight 482 514\n",
      "layers.0.self_attn.k_proj.weight 911 1024\n",
      "layers.0.self_attn.v_proj.weight 909 1024\n",
      "layers.0.self_attn.q_proj.weight 909 1024\n",
      "layers.0.self_attn.out_proj.weight 909 1024\n",
      "layers.0.fc1.weight 1001 1024\n",
      "layers.0.fc2.weight 1001 1024\n",
      "layers.1.self_attn.k_proj.weight 896 1024\n",
      "layers.1.self_attn.v_proj.weight 902 1024\n",
      "layers.1.self_attn.q_proj.weight 894 1024\n",
      "layers.1.self_attn.out_proj.weight 905 1024\n",
      "layers.1.fc1.weight 999 1024\n",
      "layers.1.fc2.weight 1002 1024\n",
      "layers.2.self_attn.k_proj.weight 901 1024\n",
      "layers.2.self_attn.v_proj.weight 901 1024\n",
      "layers.2.self_attn.q_proj.weight 899 1024\n",
      "layers.2.self_attn.out_proj.weight 883 1024\n",
      "layers.2.fc1.weight 999 1024\n",
      "layers.2.fc2.weight 1001 1024\n",
      "layers.3.self_attn.k_proj.weight 897 1024\n",
      "layers.3.self_attn.v_proj.weight 899 1024\n",
      "layers.3.self_attn.q_proj.weight 892 1024\n",
      "layers.3.self_attn.out_proj.weight 893 1024\n",
      "layers.3.fc1.weight 997 1024\n",
      "layers.3.fc2.weight 1000 1024\n",
      "layers.4.self_attn.k_proj.weight 896 1024\n",
      "layers.4.self_attn.v_proj.weight 901 1024\n",
      "layers.4.self_attn.q_proj.weight 890 1024\n",
      "layers.4.self_attn.out_proj.weight 900 1024\n",
      "layers.4.fc1.weight 996 1024\n",
      "layers.4.fc2.weight 998 1024\n",
      "layers.5.self_attn.k_proj.weight 891 1024\n",
      "layers.5.self_attn.v_proj.weight 902 1024\n",
      "layers.5.self_attn.q_proj.weight 887 1024\n",
      "layers.5.self_attn.out_proj.weight 904 1024\n",
      "layers.5.fc1.weight 994 1024\n",
      "layers.5.fc2.weight 997 1024\n",
      "layers.6.self_attn.k_proj.weight 888 1024\n",
      "layers.6.self_attn.v_proj.weight 899 1024\n",
      "layers.6.self_attn.q_proj.weight 886 1024\n",
      "layers.6.self_attn.out_proj.weight 900 1024\n",
      "layers.6.fc1.weight 994 1024\n",
      "layers.6.fc2.weight 995 1024\n",
      "layers.7.self_attn.k_proj.weight 892 1024\n",
      "layers.7.self_attn.v_proj.weight 898 1024\n",
      "layers.7.self_attn.q_proj.weight 889 1024\n",
      "layers.7.self_attn.out_proj.weight 901 1024\n",
      "layers.7.fc1.weight 994 1024\n",
      "layers.7.fc2.weight 993 1024\n",
      "layers.8.self_attn.k_proj.weight 888 1024\n",
      "layers.8.self_attn.v_proj.weight 891 1024\n",
      "layers.8.self_attn.q_proj.weight 885 1024\n",
      "layers.8.self_attn.out_proj.weight 890 1024\n",
      "layers.8.fc1.weight 996 1024\n",
      "layers.8.fc2.weight 998 1024\n",
      "layers.9.self_attn.k_proj.weight 882 1024\n",
      "layers.9.self_attn.v_proj.weight 890 1024\n",
      "layers.9.self_attn.q_proj.weight 880 1024\n",
      "layers.9.self_attn.out_proj.weight 894 1024\n",
      "layers.9.fc1.weight 997 1024\n",
      "layers.9.fc2.weight 997 1024\n",
      "layers.10.self_attn.k_proj.weight 880 1024\n",
      "layers.10.self_attn.v_proj.weight 882 1024\n",
      "layers.10.self_attn.q_proj.weight 880 1024\n",
      "layers.10.self_attn.out_proj.weight 879 1024\n",
      "layers.10.fc1.weight 991 1024\n",
      "layers.10.fc2.weight 998 1024\n",
      "layers.11.self_attn.k_proj.weight 876 1024\n",
      "layers.11.self_attn.v_proj.weight 890 1024\n",
      "layers.11.self_attn.q_proj.weight 877 1024\n",
      "layers.11.self_attn.out_proj.weight 896 1024\n",
      "layers.11.fc1.weight 989 1024\n",
      "layers.11.fc2.weight 996 1024\n",
      "layers.12.self_attn.k_proj.weight 873 1024\n",
      "layers.12.self_attn.v_proj.weight 890 1024\n",
      "layers.12.self_attn.q_proj.weight 874 1024\n",
      "layers.12.self_attn.out_proj.weight 899 1024\n",
      "layers.12.fc1.weight 987 1024\n",
      "layers.12.fc2.weight 996 1024\n",
      "layers.13.self_attn.k_proj.weight 884 1024\n",
      "layers.13.self_attn.v_proj.weight 893 1024\n",
      "layers.13.self_attn.q_proj.weight 882 1024\n",
      "layers.13.self_attn.out_proj.weight 894 1024\n",
      "layers.13.fc1.weight 987 1024\n",
      "layers.13.fc2.weight 995 1024\n",
      "layers.14.self_attn.k_proj.weight 884 1024\n",
      "layers.14.self_attn.v_proj.weight 894 1024\n",
      "layers.14.self_attn.q_proj.weight 884 1024\n",
      "layers.14.self_attn.out_proj.weight 896 1024\n",
      "layers.14.fc1.weight 993 1024\n",
      "layers.14.fc2.weight 997 1024\n",
      "layers.15.self_attn.k_proj.weight 891 1024\n",
      "layers.15.self_attn.v_proj.weight 895 1024\n",
      "layers.15.self_attn.q_proj.weight 889 1024\n",
      "layers.15.self_attn.out_proj.weight 897 1024\n",
      "layers.15.fc1.weight 993 1024\n",
      "layers.15.fc2.weight 998 1024\n",
      "layers.16.self_attn.k_proj.weight 886 1024\n",
      "layers.16.self_attn.v_proj.weight 892 1024\n",
      "layers.16.self_attn.q_proj.weight 882 1024\n",
      "layers.16.self_attn.out_proj.weight 884 1024\n",
      "layers.16.fc1.weight 997 1024\n",
      "layers.16.fc2.weight 1000 1024\n",
      "layers.17.self_attn.k_proj.weight 879 1024\n",
      "layers.17.self_attn.v_proj.weight 895 1024\n",
      "layers.17.self_attn.q_proj.weight 880 1024\n",
      "layers.17.self_attn.out_proj.weight 892 1024\n",
      "layers.17.fc1.weight 998 1024\n",
      "layers.17.fc2.weight 1000 1024\n",
      "layers.18.self_attn.k_proj.weight 872 1024\n",
      "layers.18.self_attn.v_proj.weight 897 1024\n",
      "layers.18.self_attn.q_proj.weight 875 1024\n",
      "layers.18.self_attn.out_proj.weight 896 1024\n",
      "layers.18.fc1.weight 997 1024\n",
      "layers.18.fc2.weight 999 1024\n",
      "layers.19.self_attn.k_proj.weight 870 1024\n",
      "layers.19.self_attn.v_proj.weight 899 1024\n",
      "layers.19.self_attn.q_proj.weight 873 1024\n",
      "layers.19.self_attn.out_proj.weight 899 1024\n",
      "layers.19.fc1.weight 997 1024\n",
      "layers.19.fc2.weight 1000 1024\n",
      "layers.20.self_attn.k_proj.weight 863 1024\n",
      "layers.20.self_attn.v_proj.weight 906 1024\n",
      "layers.20.self_attn.q_proj.weight 867 1024\n",
      "layers.20.self_attn.out_proj.weight 912 1024\n",
      "layers.20.fc1.weight 996 1024\n",
      "layers.20.fc2.weight 999 1024\n",
      "layers.21.self_attn.k_proj.weight 864 1024\n",
      "layers.21.self_attn.v_proj.weight 910 1024\n",
      "layers.21.self_attn.q_proj.weight 866 1024\n",
      "layers.21.self_attn.out_proj.weight 916 1024\n",
      "layers.21.fc1.weight 996 1024\n",
      "layers.21.fc2.weight 997 1024\n",
      "layers.22.self_attn.k_proj.weight 870 1024\n",
      "layers.22.self_attn.v_proj.weight 906 1024\n",
      "layers.22.self_attn.q_proj.weight 869 1024\n",
      "layers.22.self_attn.out_proj.weight 920 1024\n",
      "layers.22.fc1.weight 994 1024\n",
      "layers.22.fc2.weight 993 1024\n",
      "layers.23.self_attn.k_proj.weight 878 1024\n",
      "layers.23.self_attn.v_proj.weight 898 1024\n",
      "layers.23.self_attn.q_proj.weight 872 1024\n",
      "layers.23.self_attn.out_proj.weight 912 1024\n",
      "layers.23.fc1.weight 988 1024\n",
      "layers.23.fc2.weight 949 1024\n",
      "dense.weight 954 1024\n"
     ]
    }
   ],
   "source": [
    "explained_variance = 0.99\n",
    "print(\"# Roberta Base Principle Directions \\n\")\n",
    "print_principle_direction(roberta_base, explained_variance)\n",
    "\n",
    "print(\"\\n# Roberta Large Principle Directions \\n\")\n",
    "print_principle_direction(roberta_large, explained_variance)"
   ]
  },
  {
   "cell_type": "markdown",
   "id": "99a39e3e-2c84-458e-a47f-5e5a86443278",
   "metadata": {},
   "source": [
    "On the surface, the above results suggest you need most of the directions to account for the explained variance in the parameters.\n",
    "As such, we finetune the models for SQuAD and review the difference in the weights of the base and the tuned model. If the difference has \n",
    "fewer principle directions with high explanation, it would mean it is possible the task-based fine-tuning can be done in a smaller subspace. "
   ]
  },
  {
   "cell_type": "markdown",
   "id": "78a1ff52-126c-4665-92fd-c3e5d8c83fb2",
   "metadata": {},
   "source": [
    "## Rank Variation During Training"
   ]
  },
  {
   "cell_type": "code",
   "execution_count": 24,
   "id": "d59c3413-b156-4dfd-a1f5-1df488ff818b",
   "metadata": {},
   "outputs": [],
   "source": [
    "# Get Dataset\n",
    "import hydra\n",
    "from omegaconf import DictConfig, OmegaConf\n",
    "from datasets import load_dataset\n",
    "from torch.utils.data import DataLoader\n",
    "from torch.optim import AdamW\n",
    "from torch.nn import CrossEntropyLoss\n",
    "from train.train import train_epoch\n",
    "from utils.metrics import AverageMeter"
   ]
  },
  {
   "cell_type": "code",
   "execution_count": 10,
   "id": "719ff899-edf9-4f7e-b665-ea440ef6bc8a",
   "metadata": {},
   "outputs": [
    {
     "name": "stderr",
     "output_type": "stream",
     "text": [
      "DEBUG:hydra.core.utils:Setting JobRuntime:name=notebook\n"
     ]
    }
   ],
   "source": [
    "# Extract Training Configuration\n",
    "with hydra.initialize(version_base=None, config_path=\"../config\"):\n",
    "    cfg = hydra.compose(config_name=\"app_config\")"
   ]
  },
  {
   "cell_type": "code",
   "execution_count": 19,
   "id": "f4b82e45-bb22-4aea-b6ac-1c2ef67ab9d5",
   "metadata": {
    "scrolled": true
   },
   "outputs": [
    {
     "name": "stderr",
     "output_type": "stream",
     "text": [
      "DEBUG:urllib3.connectionpool:https://huggingface.co:443 \"GET /api/datasets/squad HTTP/1.1\" 307 64\n",
      "DEBUG:urllib3.connectionpool:https://huggingface.co:443 \"GET /api/datasets/rajpurkar/squad HTTP/1.1\" 200 2859\n",
      "DEBUG:urllib3.connectionpool:Starting new HTTPS connection (1): s3.amazonaws.com:443\n",
      "DEBUG:urllib3.connectionpool:https://s3.amazonaws.com:443 \"HEAD /datasets.huggingface.co/datasets/datasets/squad/squad.py HTTP/1.1\" 200 0\n",
      "DEBUG:urllib3.connectionpool:https://huggingface.co:443 \"GET /api/datasets/squad HTTP/1.1\" 307 64\n",
      "DEBUG:urllib3.connectionpool:https://huggingface.co:443 \"GET /api/datasets/rajpurkar/squad HTTP/1.1\" 200 2859\n",
      "DEBUG:urllib3.connectionpool:Starting new HTTPS connection (1): huggingface.co:443\n",
      "DEBUG:urllib3.connectionpool:https://huggingface.co:443 \"HEAD /datasets/squad/resolve/7b6d24c440a36b6815f21b70d25016731768db1f/README.md HTTP/1.1\" 307 0\n",
      "DEBUG:urllib3.connectionpool:https://huggingface.co:443 \"HEAD /datasets/rajpurkar/squad/resolve/7b6d24c440a36b6815f21b70d25016731768db1f/README.md HTTP/1.1\" 200 0\n",
      "DEBUG:urllib3.connectionpool:Starting new HTTPS connection (1): huggingface.co:443\n",
      "DEBUG:urllib3.connectionpool:https://huggingface.co:443 \"HEAD /datasets/squad/resolve/7b6d24c440a36b6815f21b70d25016731768db1f/.huggingface.yaml HTTP/1.1\" 307 0\n",
      "DEBUG:urllib3.connectionpool:https://huggingface.co:443 \"HEAD /datasets/rajpurkar/squad/resolve/7b6d24c440a36b6815f21b70d25016731768db1f/.huggingface.yaml HTTP/1.1\" 404 0\n",
      "DEBUG:urllib3.connectionpool:Starting new HTTPS connection (1): datasets-server.huggingface.co:443\n",
      "DEBUG:urllib3.connectionpool:https://datasets-server.huggingface.co:443 \"GET /info?dataset=squad HTTP/1.1\" 500 None\n",
      "DEBUG:urllib3.connectionpool:https://huggingface.co:443 \"POST /api/datasets/squad/paths-info/7b6d24c440a36b6815f21b70d25016731768db1f HTTP/1.1\" 307 116\n",
      "DEBUG:urllib3.connectionpool:https://huggingface.co:443 \"POST /api/datasets/rajpurkar/squad/paths-info/7b6d24c440a36b6815f21b70d25016731768db1f HTTP/1.1\" 200 102\n",
      "DEBUG:urllib3.connectionpool:https://huggingface.co:443 \"POST /api/datasets/squad/paths-info/7b6d24c440a36b6815f21b70d25016731768db1f HTTP/1.1\" 307 116\n",
      "DEBUG:urllib3.connectionpool:https://huggingface.co:443 \"POST /api/datasets/rajpurkar/squad/paths-info/7b6d24c440a36b6815f21b70d25016731768db1f HTTP/1.1\" 200 241\n",
      "DEBUG:urllib3.connectionpool:https://huggingface.co:443 \"POST /api/datasets/squad/paths-info/7b6d24c440a36b6815f21b70d25016731768db1f HTTP/1.1\" 307 116\n",
      "DEBUG:urllib3.connectionpool:https://huggingface.co:443 \"POST /api/datasets/rajpurkar/squad/paths-info/7b6d24c440a36b6815f21b70d25016731768db1f HTTP/1.1\" 200 102\n",
      "DEBUG:urllib3.connectionpool:https://huggingface.co:443 \"POST /api/datasets/squad/paths-info/7b6d24c440a36b6815f21b70d25016731768db1f HTTP/1.1\" 307 116\n",
      "DEBUG:urllib3.connectionpool:https://huggingface.co:443 \"POST /api/datasets/rajpurkar/squad/paths-info/7b6d24c440a36b6815f21b70d25016731768db1f HTTP/1.1\" 200 241\n",
      "DEBUG:urllib3.connectionpool:Starting new HTTPS connection (1): huggingface.co:443\n",
      "DEBUG:urllib3.connectionpool:https://huggingface.co:443 \"HEAD /datasets/squad/resolve/7b6d24c440a36b6815f21b70d25016731768db1f/dataset_infos.json HTTP/1.1\" 307 0\n",
      "DEBUG:urllib3.connectionpool:https://huggingface.co:443 \"HEAD /datasets/rajpurkar/squad/resolve/7b6d24c440a36b6815f21b70d25016731768db1f/dataset_infos.json HTTP/1.1\" 404 0\n",
      "DEBUG:urllib3.connectionpool:https://huggingface.co:443 \"POST /api/datasets/squad/paths-info/7b6d24c440a36b6815f21b70d25016731768db1f HTTP/1.1\" 307 116\n",
      "DEBUG:urllib3.connectionpool:https://huggingface.co:443 \"POST /api/datasets/rajpurkar/squad/paths-info/7b6d24c440a36b6815f21b70d25016731768db1f HTTP/1.1\" 200 102\n",
      "DEBUG:urllib3.connectionpool:https://huggingface.co:443 \"POST /api/datasets/squad/paths-info/7b6d24c440a36b6815f21b70d25016731768db1f HTTP/1.1\" 307 116\n",
      "DEBUG:urllib3.connectionpool:https://huggingface.co:443 \"POST /api/datasets/rajpurkar/squad/paths-info/7b6d24c440a36b6815f21b70d25016731768db1f HTTP/1.1\" 200 241\n",
      "DEBUG:urllib3.connectionpool:https://huggingface.co:443 \"POST /api/datasets/squad/paths-info/7b6d24c440a36b6815f21b70d25016731768db1f HTTP/1.1\" 307 116\n",
      "DEBUG:urllib3.connectionpool:https://huggingface.co:443 \"POST /api/datasets/rajpurkar/squad/paths-info/7b6d24c440a36b6815f21b70d25016731768db1f HTTP/1.1\" 200 102\n",
      "DEBUG:urllib3.connectionpool:https://huggingface.co:443 \"POST /api/datasets/squad/paths-info/7b6d24c440a36b6815f21b70d25016731768db1f HTTP/1.1\" 307 116\n",
      "DEBUG:urllib3.connectionpool:https://huggingface.co:443 \"POST /api/datasets/rajpurkar/squad/paths-info/7b6d24c440a36b6815f21b70d25016731768db1f HTTP/1.1\" 200 241\n",
      "DEBUG:filelock:Attempting to acquire lock 125587644744656 on /home/mathadoor/.cache/huggingface/datasets/_home_mathadoor_.cache_huggingface_datasets_squad_plain_text_0.0.0_7b6d24c440a36b6815f21b70d25016731768db1f.lock\n",
      "DEBUG:filelock:Lock 125587644744656 acquired on /home/mathadoor/.cache/huggingface/datasets/_home_mathadoor_.cache_huggingface_datasets_squad_plain_text_0.0.0_7b6d24c440a36b6815f21b70d25016731768db1f.lock\n",
      "DEBUG:fsspec.local:open file: /home/mathadoor/.cache/huggingface/datasets/squad/plain_text/0.0.0/7b6d24c440a36b6815f21b70d25016731768db1f/dataset_info.json\n",
      "DEBUG:filelock:Attempting to release lock 125587644744656 on /home/mathadoor/.cache/huggingface/datasets/_home_mathadoor_.cache_huggingface_datasets_squad_plain_text_0.0.0_7b6d24c440a36b6815f21b70d25016731768db1f.lock\n",
      "DEBUG:filelock:Lock 125587644744656 released on /home/mathadoor/.cache/huggingface/datasets/_home_mathadoor_.cache_huggingface_datasets_squad_plain_text_0.0.0_7b6d24c440a36b6815f21b70d25016731768db1f.lock\n",
      "DEBUG:filelock:Attempting to acquire lock 125587644747248 on /home/mathadoor/.cache/huggingface/datasets/squad/plain_text/0.0.0/7b6d24c440a36b6815f21b70d25016731768db1f_builder.lock\n",
      "DEBUG:filelock:Lock 125587644747248 acquired on /home/mathadoor/.cache/huggingface/datasets/squad/plain_text/0.0.0/7b6d24c440a36b6815f21b70d25016731768db1f_builder.lock\n",
      "DEBUG:fsspec.local:open file: /home/mathadoor/.cache/huggingface/datasets/squad/plain_text/0.0.0/7b6d24c440a36b6815f21b70d25016731768db1f/dataset_info.json\n",
      "DEBUG:filelock:Attempting to release lock 125587644747248 on /home/mathadoor/.cache/huggingface/datasets/squad/plain_text/0.0.0/7b6d24c440a36b6815f21b70d25016731768db1f_builder.lock\n",
      "DEBUG:filelock:Lock 125587644747248 released on /home/mathadoor/.cache/huggingface/datasets/squad/plain_text/0.0.0/7b6d24c440a36b6815f21b70d25016731768db1f_builder.lock\n",
      "DEBUG:urllib3.connectionpool:https://huggingface.co:443 \"GET /api/datasets/squad HTTP/1.1\" 307 64\n",
      "DEBUG:urllib3.connectionpool:https://huggingface.co:443 \"GET /api/datasets/rajpurkar/squad HTTP/1.1\" 200 2859\n",
      "DEBUG:urllib3.connectionpool:Starting new HTTPS connection (1): s3.amazonaws.com:443\n",
      "DEBUG:urllib3.connectionpool:https://s3.amazonaws.com:443 \"HEAD /datasets.huggingface.co/datasets/datasets/squad/squad.py HTTP/1.1\" 200 0\n",
      "DEBUG:urllib3.connectionpool:https://huggingface.co:443 \"GET /api/datasets/squad HTTP/1.1\" 307 64\n",
      "DEBUG:urllib3.connectionpool:https://huggingface.co:443 \"GET /api/datasets/rajpurkar/squad HTTP/1.1\" 200 2859\n",
      "DEBUG:urllib3.connectionpool:Starting new HTTPS connection (1): huggingface.co:443\n",
      "DEBUG:urllib3.connectionpool:https://huggingface.co:443 \"HEAD /datasets/squad/resolve/7b6d24c440a36b6815f21b70d25016731768db1f/README.md HTTP/1.1\" 307 0\n",
      "DEBUG:urllib3.connectionpool:https://huggingface.co:443 \"HEAD /datasets/rajpurkar/squad/resolve/7b6d24c440a36b6815f21b70d25016731768db1f/README.md HTTP/1.1\" 200 0\n",
      "DEBUG:urllib3.connectionpool:Starting new HTTPS connection (1): huggingface.co:443\n",
      "DEBUG:urllib3.connectionpool:https://huggingface.co:443 \"HEAD /datasets/squad/resolve/7b6d24c440a36b6815f21b70d25016731768db1f/.huggingface.yaml HTTP/1.1\" 307 0\n",
      "DEBUG:urllib3.connectionpool:https://huggingface.co:443 \"HEAD /datasets/rajpurkar/squad/resolve/7b6d24c440a36b6815f21b70d25016731768db1f/.huggingface.yaml HTTP/1.1\" 404 0\n",
      "DEBUG:urllib3.connectionpool:Starting new HTTPS connection (1): datasets-server.huggingface.co:443\n",
      "DEBUG:urllib3.connectionpool:https://datasets-server.huggingface.co:443 \"GET /info?dataset=squad HTTP/1.1\" 500 None\n",
      "DEBUG:urllib3.connectionpool:https://huggingface.co:443 \"POST /api/datasets/squad/paths-info/7b6d24c440a36b6815f21b70d25016731768db1f HTTP/1.1\" 307 116\n",
      "DEBUG:urllib3.connectionpool:https://huggingface.co:443 \"POST /api/datasets/rajpurkar/squad/paths-info/7b6d24c440a36b6815f21b70d25016731768db1f HTTP/1.1\" 200 102\n",
      "DEBUG:urllib3.connectionpool:https://huggingface.co:443 \"POST /api/datasets/squad/paths-info/7b6d24c440a36b6815f21b70d25016731768db1f HTTP/1.1\" 307 116\n",
      "DEBUG:urllib3.connectionpool:https://huggingface.co:443 \"POST /api/datasets/rajpurkar/squad/paths-info/7b6d24c440a36b6815f21b70d25016731768db1f HTTP/1.1\" 200 241\n",
      "DEBUG:urllib3.connectionpool:https://huggingface.co:443 \"POST /api/datasets/squad/paths-info/7b6d24c440a36b6815f21b70d25016731768db1f HTTP/1.1\" 307 116\n",
      "DEBUG:urllib3.connectionpool:https://huggingface.co:443 \"POST /api/datasets/rajpurkar/squad/paths-info/7b6d24c440a36b6815f21b70d25016731768db1f HTTP/1.1\" 200 102\n",
      "DEBUG:urllib3.connectionpool:https://huggingface.co:443 \"POST /api/datasets/squad/paths-info/7b6d24c440a36b6815f21b70d25016731768db1f HTTP/1.1\" 307 116\n",
      "DEBUG:urllib3.connectionpool:https://huggingface.co:443 \"POST /api/datasets/rajpurkar/squad/paths-info/7b6d24c440a36b6815f21b70d25016731768db1f HTTP/1.1\" 200 241\n",
      "DEBUG:urllib3.connectionpool:Starting new HTTPS connection (1): huggingface.co:443\n",
      "DEBUG:urllib3.connectionpool:https://huggingface.co:443 \"HEAD /datasets/squad/resolve/7b6d24c440a36b6815f21b70d25016731768db1f/dataset_infos.json HTTP/1.1\" 307 0\n",
      "DEBUG:urllib3.connectionpool:https://huggingface.co:443 \"HEAD /datasets/rajpurkar/squad/resolve/7b6d24c440a36b6815f21b70d25016731768db1f/dataset_infos.json HTTP/1.1\" 404 0\n",
      "DEBUG:urllib3.connectionpool:https://huggingface.co:443 \"POST /api/datasets/squad/paths-info/7b6d24c440a36b6815f21b70d25016731768db1f HTTP/1.1\" 307 116\n",
      "DEBUG:urllib3.connectionpool:https://huggingface.co:443 \"POST /api/datasets/rajpurkar/squad/paths-info/7b6d24c440a36b6815f21b70d25016731768db1f HTTP/1.1\" 200 102\n",
      "DEBUG:urllib3.connectionpool:https://huggingface.co:443 \"POST /api/datasets/squad/paths-info/7b6d24c440a36b6815f21b70d25016731768db1f HTTP/1.1\" 307 116\n",
      "DEBUG:urllib3.connectionpool:https://huggingface.co:443 \"POST /api/datasets/rajpurkar/squad/paths-info/7b6d24c440a36b6815f21b70d25016731768db1f HTTP/1.1\" 200 241\n",
      "DEBUG:urllib3.connectionpool:https://huggingface.co:443 \"POST /api/datasets/squad/paths-info/7b6d24c440a36b6815f21b70d25016731768db1f HTTP/1.1\" 307 116\n",
      "DEBUG:urllib3.connectionpool:https://huggingface.co:443 \"POST /api/datasets/rajpurkar/squad/paths-info/7b6d24c440a36b6815f21b70d25016731768db1f HTTP/1.1\" 200 102\n",
      "DEBUG:urllib3.connectionpool:https://huggingface.co:443 \"POST /api/datasets/squad/paths-info/7b6d24c440a36b6815f21b70d25016731768db1f HTTP/1.1\" 307 116\n",
      "DEBUG:urllib3.connectionpool:https://huggingface.co:443 \"POST /api/datasets/rajpurkar/squad/paths-info/7b6d24c440a36b6815f21b70d25016731768db1f HTTP/1.1\" 200 241\n",
      "DEBUG:filelock:Attempting to acquire lock 125587670262656 on /home/mathadoor/.cache/huggingface/datasets/_home_mathadoor_.cache_huggingface_datasets_squad_plain_text_0.0.0_7b6d24c440a36b6815f21b70d25016731768db1f.lock\n",
      "DEBUG:filelock:Lock 125587670262656 acquired on /home/mathadoor/.cache/huggingface/datasets/_home_mathadoor_.cache_huggingface_datasets_squad_plain_text_0.0.0_7b6d24c440a36b6815f21b70d25016731768db1f.lock\n",
      "DEBUG:fsspec.local:open file: /home/mathadoor/.cache/huggingface/datasets/squad/plain_text/0.0.0/7b6d24c440a36b6815f21b70d25016731768db1f/dataset_info.json\n",
      "DEBUG:filelock:Attempting to release lock 125587670262656 on /home/mathadoor/.cache/huggingface/datasets/_home_mathadoor_.cache_huggingface_datasets_squad_plain_text_0.0.0_7b6d24c440a36b6815f21b70d25016731768db1f.lock\n",
      "DEBUG:filelock:Lock 125587670262656 released on /home/mathadoor/.cache/huggingface/datasets/_home_mathadoor_.cache_huggingface_datasets_squad_plain_text_0.0.0_7b6d24c440a36b6815f21b70d25016731768db1f.lock\n",
      "DEBUG:filelock:Attempting to acquire lock 125587670262656 on /home/mathadoor/.cache/huggingface/datasets/squad/plain_text/0.0.0/7b6d24c440a36b6815f21b70d25016731768db1f_builder.lock\n",
      "DEBUG:filelock:Lock 125587670262656 acquired on /home/mathadoor/.cache/huggingface/datasets/squad/plain_text/0.0.0/7b6d24c440a36b6815f21b70d25016731768db1f_builder.lock\n",
      "DEBUG:fsspec.local:open file: /home/mathadoor/.cache/huggingface/datasets/squad/plain_text/0.0.0/7b6d24c440a36b6815f21b70d25016731768db1f/dataset_info.json\n",
      "DEBUG:filelock:Attempting to release lock 125587670262656 on /home/mathadoor/.cache/huggingface/datasets/squad/plain_text/0.0.0/7b6d24c440a36b6815f21b70d25016731768db1f_builder.lock\n",
      "DEBUG:filelock:Lock 125587670262656 released on /home/mathadoor/.cache/huggingface/datasets/squad/plain_text/0.0.0/7b6d24c440a36b6815f21b70d25016731768db1f_builder.lock\n"
     ]
    }
   ],
   "source": [
    "train_dataset = load_dataset(\"squad\", split=\"train\")\n",
    "val_dataset = load_dataset(\"squad\", split=\"validation\")"
   ]
  },
  {
   "cell_type": "code",
   "execution_count": 28,
   "id": "0a7bcbd0-1ab7-48b6-b890-79dddf7abbc3",
   "metadata": {},
   "outputs": [],
   "source": [
    "## Create Training Artifacts\n",
    "training_cfg = hydra.utils.instantiate(cfg.model.model.train)\n",
    "\n",
    "train_loader = DataLoader(train_dataset, batch_size=training_cfg.batch_size, shuffle=True)\n",
    "val_loader = DataLoader(val_dataset, batch_size=training_cfg.batch_size)\n",
    "\n",
    "model = roberta_base\n",
    "optimizer = AdamW(params=model.parameters(), lr=training_cfg.lr, weight_decay=training_cfg.weight_decay)\n",
    "criterion = CrossEntropyLoss()\n",
    "\n",
    "loss_meter = AverageMeter()\n",
    "acc_meter = AverageMeter()"
   ]
  },
  {
   "cell_type": "code",
   "execution_count": null,
   "id": "e781f4c5-9bf2-4b92-a0be-184d54fc97aa",
   "metadata": {},
   "outputs": [],
   "source": []
  },
  {
   "cell_type": "markdown",
   "id": "b3c1c168-4382-4963-bab5-e723a863a4f7",
   "metadata": {},
   "source": [
    "# Introducing LoRA Weights\n",
    "This section introduces LoRA weights in our models for further analysis."
   ]
  },
  {
   "cell_type": "code",
   "execution_count": 3,
   "id": "ec9a0bca-9500-4e4f-9650-23bfc0a02439",
   "metadata": {
    "scrolled": true
   },
   "outputs": [],
   "source": [
    "# On the surface the above results suggest you need most of the directions to account for most of the directions. \n",
    "# It will be useful to see which directions are affected and how later.\n",
    "from models.LoRA import LoRALinearLayer\n",
    "def add_linear_lora(module, rank, init_type=0):\n",
    "    for key, child in module.named_children():\n",
    "        if isinstance(child, torch.nn.Linear):\n",
    "            lora_layer =  LoRALinearLayer(child, rank=rank, init_type=init_type)\n",
    "            setattr(module, key, lora_layer)\n",
    "        else:\n",
    "            add_linear_lora(child, rank, init_type)"
   ]
  },
  {
   "cell_type": "code",
   "execution_count": 4,
   "id": "fa02e6c0-2f89-40ab-b387-9c77de31b5e0",
   "metadata": {},
   "outputs": [],
   "source": [
    "add_linear_lora(roberta_base, rank=10, init_type=1)"
   ]
  },
  {
   "cell_type": "code",
   "execution_count": 5,
   "id": "fe6c9164-4b29-4ad1-b98f-a50c4f368e7c",
   "metadata": {},
   "outputs": [
    {
     "data": {
      "text/plain": [
       "RobertaHubInterface(\n",
       "  (model): RobertaModel(\n",
       "    (encoder): RobertaEncoder(\n",
       "      (sentence_encoder): TransformerEncoder(\n",
       "        (dropout_module): FairseqDropout()\n",
       "        (embed_tokens): Embedding(50265, 768, padding_idx=1)\n",
       "        (embed_positions): LearnedPositionalEmbedding(514, 768, padding_idx=1)\n",
       "        (layernorm_embedding): LayerNorm((768,), eps=1e-05, elementwise_affine=True)\n",
       "        (layers): ModuleList(\n",
       "          (0-11): 12 x TransformerEncoderLayerBase(\n",
       "            (self_attn): MultiheadAttention(\n",
       "              (dropout_module): FairseqDropout()\n",
       "              (k_proj): LoRALinear(in_features=768, in_features=768, rank=$10, init_type=$1)\n",
       "              (v_proj): LoRALinear(in_features=768, in_features=768, rank=$10, init_type=$1)\n",
       "              (q_proj): LoRALinear(in_features=768, in_features=768, rank=$10, init_type=$1)\n",
       "              (out_proj): LoRALinear(in_features=768, in_features=768, rank=$10, init_type=$1)\n",
       "            )\n",
       "            (self_attn_layer_norm): LayerNorm((768,), eps=1e-05, elementwise_affine=True)\n",
       "            (dropout_module): FairseqDropout()\n",
       "            (activation_dropout_module): FairseqDropout()\n",
       "            (fc1): LoRALinear(in_features=768, in_features=3072, rank=$10, init_type=$1)\n",
       "            (fc2): LoRALinear(in_features=3072, in_features=768, rank=$10, init_type=$1)\n",
       "            (final_layer_norm): LayerNorm((768,), eps=1e-05, elementwise_affine=True)\n",
       "          )\n",
       "        )\n",
       "      )\n",
       "      (lm_head): RobertaLMHead(\n",
       "        (dense): LoRALinear(in_features=768, in_features=768, rank=$10, init_type=$1)\n",
       "        (layer_norm): LayerNorm((768,), eps=1e-05, elementwise_affine=True)\n",
       "      )\n",
       "    )\n",
       "    (classification_heads): ModuleDict()\n",
       "  )\n",
       ")"
      ]
     },
     "execution_count": 5,
     "metadata": {},
     "output_type": "execute_result"
    }
   ],
   "source": [
    "roberta_base"
   ]
  },
  {
   "cell_type": "code",
   "execution_count": 6,
   "id": "0c66542b-d1f8-417c-bae4-172a31970431",
   "metadata": {},
   "outputs": [
    {
     "data": {
      "text/plain": [
       "RobertaHubInterface(\n",
       "  (model): RobertaModel(\n",
       "    (encoder): RobertaEncoder(\n",
       "      (sentence_encoder): TransformerEncoder(\n",
       "        (dropout_module): FairseqDropout()\n",
       "        (embed_tokens): Embedding(50265, 1024, padding_idx=1)\n",
       "        (embed_positions): LearnedPositionalEmbedding(514, 1024, padding_idx=1)\n",
       "        (layernorm_embedding): LayerNorm((1024,), eps=1e-05, elementwise_affine=True)\n",
       "        (layers): ModuleList(\n",
       "          (0-23): 24 x TransformerEncoderLayerBase(\n",
       "            (self_attn): MultiheadAttention(\n",
       "              (dropout_module): FairseqDropout()\n",
       "              (k_proj): Linear(in_features=1024, out_features=1024, bias=True)\n",
       "              (v_proj): Linear(in_features=1024, out_features=1024, bias=True)\n",
       "              (q_proj): Linear(in_features=1024, out_features=1024, bias=True)\n",
       "              (out_proj): Linear(in_features=1024, out_features=1024, bias=True)\n",
       "            )\n",
       "            (self_attn_layer_norm): LayerNorm((1024,), eps=1e-05, elementwise_affine=True)\n",
       "            (dropout_module): FairseqDropout()\n",
       "            (activation_dropout_module): FairseqDropout()\n",
       "            (fc1): Linear(in_features=1024, out_features=4096, bias=True)\n",
       "            (fc2): Linear(in_features=4096, out_features=1024, bias=True)\n",
       "            (final_layer_norm): LayerNorm((1024,), eps=1e-05, elementwise_affine=True)\n",
       "          )\n",
       "        )\n",
       "      )\n",
       "      (lm_head): RobertaLMHead(\n",
       "        (dense): Linear(in_features=1024, out_features=1024, bias=True)\n",
       "        (layer_norm): LayerNorm((1024,), eps=1e-05, elementwise_affine=True)\n",
       "      )\n",
       "    )\n",
       "    (classification_heads): ModuleDict()\n",
       "  )\n",
       ")"
      ]
     },
     "execution_count": 6,
     "metadata": {},
     "output_type": "execute_result"
    }
   ],
   "source": [
    "roberta_large"
   ]
  },
  {
   "cell_type": "code",
   "execution_count": null,
   "id": "0ff436bb-df8a-4baa-af98-0be01d85c430",
   "metadata": {},
   "outputs": [],
   "source": []
  }
 ],
 "metadata": {
  "kernelspec": {
   "display_name": "Python 3 (ipykernel)",
   "language": "python",
   "name": "python3"
  },
  "language_info": {
   "codemirror_mode": {
    "name": "ipython",
    "version": 3
   },
   "file_extension": ".py",
   "mimetype": "text/x-python",
   "name": "python",
   "nbconvert_exporter": "python",
   "pygments_lexer": "ipython3",
   "version": "3.10.12"
  }
 },
 "nbformat": 4,
 "nbformat_minor": 5
}
