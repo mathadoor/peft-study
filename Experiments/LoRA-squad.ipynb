{
 "cells": [
  {
   "cell_type": "markdown",
   "id": "9e45fd35-cdca-44b8-a00f-607078ee1a67",
   "metadata": {
    "collapsed": true,
    "jupyter": {
     "outputs_hidden": true
    }
   },
   "source": [
    "# Investigating Appropriate Rank\n",
    "In the first section, I am going to investigate what an appropriate rank to consider should be. It will make sense to look at the \n",
    "ranks of a trained matrix and a randomly initialized matrix. We will start by looking at a randomly initialized matrix and then\n",
    "look at a trained matrix. Specifically, I will look at the rank of a randomly initialized matrix. I will need to consider the sizes \n",
    "that are seen in RoBERTa"
   ]
  },
  {
   "cell_type": "code",
   "execution_count": 1,
   "id": "4f2172b3-4630-4fed-8bfd-4cf8b3ea7ada",
   "metadata": {},
   "outputs": [],
   "source": [
    "# Import Appropriate Libraries\n",
    "%load_ext autoreload\n",
    "    \n",
    "import torch\n",
    "import matplotlib.pyplot as plt \n",
    "import bisect\n",
    "import sys\n",
    "sys.path.append(\"../\")"
   ]
  },
  {
   "cell_type": "code",
   "execution_count": 2,
   "id": "25dba68b-c775-4672-8fbf-f2bb3da6f1e9",
   "metadata": {},
   "outputs": [],
   "source": [
    "def get_principle_direction(A, exp_var):\n",
    "    U, S, V = torch.linalg.svd(A)\n",
    "    X = (torch.cumsum(S, 0) / S.sum().item()).tolist()\n",
    "    num = bisect.bisect(X, exp_var)\n",
    "    return num\n",
    "\n",
    "def plot_results(n=100, size=[768, 768], exp_var=0.99):\n",
    "    results = []\n",
    "    for _ in range(n):\n",
    "        A = torch.randn(size)\n",
    "        num = get_principle_direction(A, exp_var)\n",
    "        results.append(num)\n",
    "    return results"
   ]
  },
  {
   "cell_type": "code",
   "execution_count": 3,
   "id": "86b27c30-3205-4635-b424-9e5e80078d10",
   "metadata": {},
   "outputs": [
    {
     "data": {
      "text/plain": [
       "(array([47.,  0.,  0.,  0.,  0.,  0.,  0.,  0.,  0., 53.]),\n",
       " array([515. , 515.1, 515.2, 515.3, 515.4, 515.5, 515.6, 515.7, 515.8,\n",
       "        515.9, 516. ]),\n",
       " <BarContainer object of 10 artists>)"
      ]
     },
     "execution_count": 3,
     "metadata": {},
     "output_type": "execute_result"
    },
    {
     "data": {
      "image/png": "[encoded data removed]",
      "text/plain": [
       "<Figure size 640x480 with 3 Axes>"
      ]
     },
     "metadata": {},
     "output_type": "display_data"
    }
   ],
   "source": [
    "fig, ax = plt.subplots(nrows=1, ncols=3)\n",
    "ax[0].hist(plot_results())\n",
    "ax[1].hist(plot_results(exp_var=0.95))\n",
    "ax[2].hist(plot_results(exp_var=0.9))"
   ]
  },
  {
   "cell_type": "markdown",
   "id": "601559f6-0a40-40bb-830e-a836a35c5a5b",
   "metadata": {},
   "source": [
    "The above results indicate the rank is very tightly distributed based on the explained variance. The reader is encouraged to play with the explained_variance and support the claim themselves."
   ]
  },
  {
   "cell_type": "code",
   "execution_count": null,
   "id": "373c7b6d-5ccd-447e-b545-7349e19e7e90",
   "metadata": {
    "scrolled": true
   },
   "outputs": [],
   "source": [
    "## Now let's look at how tightly the weights are distributed in RoBERTa \n",
    "roberta_large = torch.hub.load('pytorch/fairseq', 'roberta.large') \n",
    "roberta_base = torch.hub.load('pytorch/fairseq', 'roberta.base')"
   ]
  },
  {
   "cell_type": "code",
   "execution_count": 6,
   "id": "9dd7956d-48ca-4f5f-96e1-72ca43118c2e",
   "metadata": {},
   "outputs": [
    {
     "name": "stdout",
     "output_type": "stream",
     "text": [
      "embed_tokens.weight 745 768\n",
      "embed_positions.weight 439 514\n",
      "layernorm_embedding.weight 768\n",
      "layernorm_embedding.bias 768\n",
      "layers.0.self_attn.k_proj.weight 652 768\n",
      "layers.0.self_attn.k_proj.bias 768\n",
      "layers.0.self_attn.v_proj.weight 667 768\n",
      "layers.0.self_attn.v_proj.bias 768\n",
      "layers.0.self_attn.q_proj.weight 653 768\n",
      "layers.0.self_attn.q_proj.bias 768\n",
      "layers.0.self_attn.out_proj.weight 669 768\n",
      "layers.0.self_attn.out_proj.bias 768\n",
      "layers.0.self_attn_layer_norm.weight 768\n",
      "layers.0.self_attn_layer_norm.bias 768\n",
      "layers.0.fc1.weight 748 768\n",
      "layers.0.fc1.bias 3072\n",
      "layers.0.fc2.weight 748 768\n",
      "layers.0.fc2.bias 768\n",
      "layers.0.final_layer_norm.weight 768\n",
      "layers.0.final_layer_norm.bias 768\n",
      "layers.1.self_attn.k_proj.weight 649 768\n",
      "layers.1.self_attn.k_proj.bias 768\n",
      "layers.1.self_attn.v_proj.weight 665 768\n",
      "layers.1.self_attn.v_proj.bias 768\n",
      "layers.1.self_attn.q_proj.weight 644 768\n",
      "layers.1.self_attn.q_proj.bias 768\n",
      "layers.1.self_attn.out_proj.weight 662 768\n",
      "layers.1.self_attn.out_proj.bias 768\n",
      "layers.1.self_attn_layer_norm.weight 768\n",
      "layers.1.self_attn_layer_norm.bias 768\n",
      "layers.1.fc1.weight 745 768\n",
      "layers.1.fc1.bias 3072\n",
      "layers.1.fc2.weight 746 768\n",
      "layers.1.fc2.bias 768\n",
      "layers.1.final_layer_norm.weight 768\n",
      "layers.1.final_layer_norm.bias 768\n",
      "layers.2.self_attn.k_proj.weight 639 768\n",
      "layers.2.self_attn.k_proj.bias 768\n",
      "layers.2.self_attn.v_proj.weight 661 768\n",
      "layers.2.self_attn.v_proj.bias 768\n",
      "layers.2.self_attn.q_proj.weight 638 768\n",
      "layers.2.self_attn.q_proj.bias 768\n",
      "layers.2.self_attn.out_proj.weight 662 768\n",
      "layers.2.self_attn.out_proj.bias 768\n",
      "layers.2.self_attn_layer_norm.weight 768\n",
      "layers.2.self_attn_layer_norm.bias 768\n",
      "layers.2.fc1.weight 744 768\n",
      "layers.2.fc1.bias 3072\n",
      "layers.2.fc2.weight 744 768\n",
      "layers.2.fc2.bias 768\n",
      "layers.2.final_layer_norm.weight 768\n",
      "layers.2.final_layer_norm.bias 768\n",
      "layers.3.self_attn.k_proj.weight 649 768\n",
      "layers.3.self_attn.k_proj.bias 768\n",
      "layers.3.self_attn.v_proj.weight 660 768\n",
      "layers.3.self_attn.v_proj.bias 768\n",
      "layers.3.self_attn.q_proj.weight 649 768\n",
      "layers.3.self_attn.q_proj.bias 768\n",
      "layers.3.self_attn.out_proj.weight 656 768\n",
      "layers.3.self_attn.out_proj.bias 768\n",
      "layers.3.self_attn_layer_norm.weight 768\n",
      "layers.3.self_attn_layer_norm.bias 768\n",
      "layers.3.fc1.weight 745 768\n",
      "layers.3.fc1.bias 3072\n",
      "layers.3.fc2.weight 744 768\n",
      "layers.3.fc2.bias 768\n",
      "layers.3.final_layer_norm.weight 768\n",
      "layers.3.final_layer_norm.bias 768\n",
      "layers.4.self_attn.k_proj.weight 645 768\n",
      "layers.4.self_attn.k_proj.bias 768\n",
      "layers.4.self_attn.v_proj.weight 655 768\n",
      "layers.4.self_attn.v_proj.bias 768\n",
      "layers.4.self_attn.q_proj.weight 646 768\n",
      "layers.4.self_attn.q_proj.bias 768\n",
      "layers.4.self_attn.out_proj.weight 649 768\n",
      "layers.4.self_attn.out_proj.bias 768\n",
      "layers.4.self_attn_layer_norm.weight 768\n",
      "layers.4.self_attn_layer_norm.bias 768\n",
      "layers.4.fc1.weight 747 768\n",
      "layers.4.fc1.bias 3072\n",
      "layers.4.fc2.weight 744 768\n",
      "layers.4.fc2.bias 768\n",
      "layers.4.final_layer_norm.weight 768\n",
      "layers.4.final_layer_norm.bias 768\n",
      "layers.5.self_attn.k_proj.weight 653 768\n",
      "layers.5.self_attn.k_proj.bias 768\n",
      "layers.5.self_attn.v_proj.weight 660 768\n",
      "layers.5.self_attn.v_proj.bias 768\n",
      "layers.5.self_attn.q_proj.weight 654 768\n",
      "layers.5.self_attn.q_proj.bias 768\n",
      "layers.5.self_attn.out_proj.weight 652 768\n",
      "layers.5.self_attn.out_proj.bias 768\n",
      "layers.5.self_attn_layer_norm.weight 768\n",
      "layers.5.self_attn_layer_norm.bias 768\n",
      "layers.5.fc1.weight 747 768\n",
      "layers.5.fc1.bias 3072\n",
      "layers.5.fc2.weight 743 768\n",
      "layers.5.fc2.bias 768\n",
      "layers.5.final_layer_norm.weight 768\n",
      "layers.5.final_layer_norm.bias 768\n",
      "layers.6.self_attn.k_proj.weight 644 768\n",
      "layers.6.self_attn.k_proj.bias 768\n",
      "layers.6.self_attn.v_proj.weight 660 768\n",
      "layers.6.self_attn.v_proj.bias 768\n",
      "layers.6.self_attn.q_proj.weight 647 768\n",
      "layers.6.self_attn.q_proj.bias 768\n",
      "layers.6.self_attn.out_proj.weight 659 768\n",
      "layers.6.self_attn.out_proj.bias 768\n",
      "layers.6.self_attn_layer_norm.weight 768\n",
      "layers.6.self_attn_layer_norm.bias 768\n",
      "layers.6.fc1.weight 747 768\n",
      "layers.6.fc1.bias 3072\n",
      "layers.6.fc2.weight 744 768\n",
      "layers.6.fc2.bias 768\n",
      "layers.6.final_layer_norm.weight 768\n",
      "layers.6.final_layer_norm.bias 768\n",
      "layers.7.self_attn.k_proj.weight 643 768\n",
      "layers.7.self_attn.k_proj.bias 768\n",
      "layers.7.self_attn.v_proj.weight 662 768\n",
      "layers.7.self_attn.v_proj.bias 768\n",
      "layers.7.self_attn.q_proj.weight 645 768\n",
      "layers.7.self_attn.q_proj.bias 768\n",
      "layers.7.self_attn.out_proj.weight 662 768\n",
      "layers.7.self_attn.out_proj.bias 768\n",
      "layers.7.self_attn_layer_norm.weight 768\n",
      "layers.7.self_attn_layer_norm.bias 768\n",
      "layers.7.fc1.weight 746 768\n",
      "layers.7.fc1.bias 3072\n",
      "layers.7.fc2.weight 744 768\n",
      "layers.7.fc2.bias 768\n",
      "layers.7.final_layer_norm.weight 768\n",
      "layers.7.final_layer_norm.bias 768\n",
      "layers.8.self_attn.k_proj.weight 637 768\n",
      "layers.8.self_attn.k_proj.bias 768\n",
      "layers.8.self_attn.v_proj.weight 677 768\n",
      "layers.8.self_attn.v_proj.bias 768\n",
      "layers.8.self_attn.q_proj.weight 640 768\n",
      "layers.8.self_attn.q_proj.bias 768\n",
      "layers.8.self_attn.out_proj.weight 680 768\n",
      "layers.8.self_attn.out_proj.bias 768\n",
      "layers.8.self_attn_layer_norm.weight 768\n",
      "layers.8.self_attn_layer_norm.bias 768\n",
      "layers.8.fc1.weight 746 768\n",
      "layers.8.fc1.bias 3072\n",
      "layers.8.fc2.weight 743 768\n",
      "layers.8.fc2.bias 768\n",
      "layers.8.final_layer_norm.weight 768\n",
      "layers.8.final_layer_norm.bias 768\n",
      "layers.9.self_attn.k_proj.weight 638 768\n",
      "layers.9.self_attn.k_proj.bias 768\n",
      "layers.9.self_attn.v_proj.weight 680 768\n",
      "layers.9.self_attn.v_proj.bias 768\n",
      "layers.9.self_attn.q_proj.weight 641 768\n",
      "layers.9.self_attn.q_proj.bias 768\n",
      "layers.9.self_attn.out_proj.weight 684 768\n",
      "layers.9.self_attn.out_proj.bias 768\n",
      "layers.9.self_attn_layer_norm.weight 768\n",
      "layers.9.self_attn_layer_norm.bias 768\n",
      "layers.9.fc1.weight 746 768\n",
      "layers.9.fc1.bias 3072\n",
      "layers.9.fc2.weight 746 768\n",
      "layers.9.fc2.bias 768\n",
      "layers.9.final_layer_norm.weight 768\n",
      "layers.9.final_layer_norm.bias 768\n",
      "layers.10.self_attn.k_proj.weight 646 768\n",
      "layers.10.self_attn.k_proj.bias 768\n",
      "layers.10.self_attn.v_proj.weight 675 768\n",
      "layers.10.self_attn.v_proj.bias 768\n",
      "layers.10.self_attn.q_proj.weight 646 768\n",
      "layers.10.self_attn.q_proj.bias 768\n",
      "layers.10.self_attn.out_proj.weight 688 768\n",
      "layers.10.self_attn.out_proj.bias 768\n",
      "layers.10.self_attn_layer_norm.weight 768\n",
      "layers.10.self_attn_layer_norm.bias 768\n",
      "layers.10.fc1.weight 745 768\n",
      "layers.10.fc1.bias 3072\n",
      "layers.10.fc2.weight 745 768\n",
      "layers.10.fc2.bias 768\n",
      "layers.10.final_layer_norm.weight 768\n",
      "layers.10.final_layer_norm.bias 768\n",
      "layers.11.self_attn.k_proj.weight 652 768\n",
      "layers.11.self_attn.k_proj.bias 768\n",
      "layers.11.self_attn.v_proj.weight 666 768\n",
      "layers.11.self_attn.v_proj.bias 768\n",
      "layers.11.self_attn.q_proj.weight 650 768\n",
      "layers.11.self_attn.q_proj.bias 768\n",
      "layers.11.self_attn.out_proj.weight 684 768\n",
      "layers.11.self_attn.out_proj.bias 768\n",
      "layers.11.self_attn_layer_norm.weight 768\n",
      "layers.11.self_attn_layer_norm.bias 768\n",
      "layers.11.fc1.weight 735 768\n",
      "layers.11.fc1.bias 3072\n",
      "layers.11.fc2.weight 716 768\n",
      "layers.11.fc2.bias 768\n",
      "layers.11.final_layer_norm.weight 768\n",
      "layers.11.final_layer_norm.bias 768\n",
      "bias 50265\n",
      "dense.weight 717 768\n",
      "dense.bias 768\n",
      "layer_norm.weight 768\n",
      "layer_norm.bias 768\n"
     ]
    }
   ],
   "source": [
    "for key, param in roberta_base.named_parameters():\n",
    "    with torch.no_grad():\n",
    "        key = \".\".join(key.split(\".\")[3:])\n",
    "        p_size = min(param.size())\n",
    "        if len(param.size()) < 2:\n",
    "            print(key, p_size)\n",
    "            continue\n",
    "        print(key, get_principle_direction(param, 0.99), p_size)"
   ]
  },
  {
   "cell_type": "code",
   "execution_count": 8,
   "id": "ec9a0bca-9500-4e4f-9650-23bfc0a02439",
   "metadata": {
    "scrolled": true
   },
   "outputs": [],
   "source": [
    "# On the surface the above results suggest you need most of the directions to account for most of the directions. \n",
    "# It will be useful to see which directions are affected and how later.\n",
    "from models.LoRA import LoRALinearLayer\n",
    "def add_linear_lora(module, rank, init_type=0):\n",
    "    for key, child in module.named_children():\n",
    "        if isinstance(child, torch.nn.Linear):\n",
    "            lora_layer =  LoRALinearLayer(child, rank=rank, init_type=init_type)\n",
    "            setattr(module, key, lora_layer)\n",
    "        else:\n",
    "            add_linear_lora(child, rank, init_type)"
   ]
  },
  {
   "cell_type": "code",
   "execution_count": 9,
   "id": "fa02e6c0-2f89-40ab-b387-9c77de31b5e0",
   "metadata": {},
   "outputs": [],
   "source": [
    "add_linear_lora(roberta_base, rank=10, init_type=1)"
   ]
  },
  {
   "cell_type": "code",
   "execution_count": 10,
   "id": "fe6c9164-4b29-4ad1-b98f-a50c4f368e7c",
   "metadata": {},
   "outputs": [
    {
     "data": {
      "text/plain": [
       "RobertaHubInterface(\n",
       "  (model): RobertaModel(\n",
       "    (encoder): RobertaEncoder(\n",
       "      (sentence_encoder): TransformerEncoder(\n",
       "        (dropout_module): FairseqDropout()\n",
       "        (embed_tokens): Embedding(50265, 768, padding_idx=1)\n",
       "        (embed_positions): LearnedPositionalEmbedding(514, 768, padding_idx=1)\n",
       "        (layernorm_embedding): LayerNorm((768,), eps=1e-05, elementwise_affine=True)\n",
       "        (layers): ModuleList(\n",
       "          (0-11): 12 x TransformerEncoderLayerBase(\n",
       "            (self_attn): MultiheadAttention(\n",
       "              (dropout_module): FairseqDropout()\n",
       "              (k_proj): LoRALinear(in_features=768, in_features=768, rank=$10, init_type=$1)\n",
       "              (v_proj): LoRALinear(in_features=768, in_features=768, rank=$10, init_type=$1)\n",
       "              (q_proj): LoRALinear(in_features=768, in_features=768, rank=$10, init_type=$1)\n",
       "              (out_proj): LoRALinear(in_features=768, in_features=768, rank=$10, init_type=$1)\n",
       "            )\n",
       "            (self_attn_layer_norm): LayerNorm((768,), eps=1e-05, elementwise_affine=True)\n",
       "            (dropout_module): FairseqDropout()\n",
       "            (activation_dropout_module): FairseqDropout()\n",
       "            (fc1): LoRALinear(in_features=768, in_features=3072, rank=$10, init_type=$1)\n",
       "            (fc2): LoRALinear(in_features=3072, in_features=768, rank=$10, init_type=$1)\n",
       "            (final_layer_norm): LayerNorm((768,), eps=1e-05, elementwise_affine=True)\n",
       "          )\n",
       "        )\n",
       "      )\n",
       "      (lm_head): RobertaLMHead(\n",
       "        (dense): LoRALinear(in_features=768, in_features=768, rank=$10, init_type=$1)\n",
       "        (layer_norm): LayerNorm((768,), eps=1e-05, elementwise_affine=True)\n",
       "      )\n",
       "    )\n",
       "    (classification_heads): ModuleDict()\n",
       "  )\n",
       ")"
      ]
     },
     "execution_count": 10,
     "metadata": {},
     "output_type": "execute_result"
    }
   ],
   "source": [
    "roberta_base"
   ]
  },
  {
   "cell_type": "code",
   "execution_count": null,
   "id": "0c66542b-d1f8-417c-bae4-172a31970431",
   "metadata": {},
   "outputs": [],
   "source": []
  }
 ],
 "metadata": {
  "kernelspec": {
   "display_name": "Python 3 (ipykernel)",
   "language": "python",
   "name": "python3"
  },
  "language_info": {
   "codemirror_mode": {
    "name": "ipython",
    "version": 3
   },
   "file_extension": ".py",
   "mimetype": "text/x-python",
   "name": "python",
   "nbconvert_exporter": "python",
   "pygments_lexer": "ipython3",
   "version": "3.10.12"
  }
 },
 "nbformat": 4,
 "nbformat_minor": 5
}
